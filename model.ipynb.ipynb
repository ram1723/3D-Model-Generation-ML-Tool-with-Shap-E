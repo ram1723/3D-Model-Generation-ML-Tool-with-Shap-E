{
  "cells": [
    {
      "cell_type": "code",
      "execution_count": 2,
      "metadata": {
        "colab": {
          "base_uri": "https://localhost:8080/"
        },
        "id": "arm9VqZVvVqs",
        "outputId": "bc4a198c-aff4-4f94-aacf-64d9e1be1fc6"
      },
      "outputs": [
        {
          "name": "stdout",
          "output_type": "stream",
          "text": [
            "Cloning into 'shap-e'...\n",
            "remote: Enumerating objects: 336, done.\u001b[K\n",
            "remote: Counting objects: 100% (55/55), done.\u001b[K\n",
            "remote: Compressing objects: 100% (42/42), done.\u001b[K\n",
            "remote: Total 336 (delta 35), reused 13 (delta 13), pack-reused 281 (from 2)\u001b[K\n",
            "Receiving objects: 100% (336/336), 11.72 MiB | 16.74 MiB/s, done.\n",
            "Resolving deltas: 100% (43/43), done.\n"
          ]
        }
      ],
      "source": [
        "!git clone https://github.com/openai/shap-e.git"
      ]
    },
    {
      "cell_type": "code",
      "execution_count": 3,
      "metadata": {
        "colab": {
          "base_uri": "https://localhost:8080/"
        },
        "id": "dfGSJxMrxP9s",
        "outputId": "6ff3d4be-e9c6-4880-ad28-eda43e296437"
      },
      "outputs": [
        {
          "name": "stdout",
          "output_type": "stream",
          "text": [
            "/content/shap-e\n"
          ]
        }
      ],
      "source": [
        "%cd shap-e"
      ]
    },
    {
      "cell_type": "code",
      "execution_count": 4,
      "metadata": {
        "colab": {
          "base_uri": "https://localhost:8080/"
        },
        "id": "t9vcAyRWxZcg",
        "outputId": "720f83a8-dce9-49a1-93f1-e2d3ad725833"
      },
      "outputs": [
        {
          "name": "stdout",
          "output_type": "stream",
          "text": [
            "\n",
            "Usage:   \n",
            "  pip3 install [options] <requirement specifier> [package-index-options] ...\n",
            "  pip3 install [options] -r <requirements file> [package-index-options] ...\n",
            "  pip3 install [options] [-e] <vcs project url> ...\n",
            "  pip3 install [options] [-e] <local project path> ...\n",
            "  pip3 install [options] <archive url/path> ...\n",
            "\n",
            "-e option requires 1 argument\n"
          ]
        }
      ],
      "source": [
        "!pip install -e"
      ]
    },
    {
      "cell_type": "code",
      "execution_count": 5,
      "metadata": {
        "colab": {
          "base_uri": "https://localhost:8080/"
        },
        "id": "KXwUx0PWxgrB",
        "outputId": "13fee473-71f3-4ff5-93fc-2d1afd657a46"
      },
      "outputs": [
        {
          "name": "stdout",
          "output_type": "stream",
          "text": [
            "Obtaining file:///content/shap-e\n",
            "  Preparing metadata (setup.py) ... \u001b[?25l\u001b[?25hdone\n",
            "Collecting clip@ git+https://github.com/openai/CLIP.git (from shap-e==0.0.0)\n",
            "  Cloning https://github.com/openai/CLIP.git to /tmp/pip-install-spt__slh/clip_779363b5f6b34ed2834ccd723fc41945\n",
            "  Running command git clone --filter=blob:none --quiet https://github.com/openai/CLIP.git /tmp/pip-install-spt__slh/clip_779363b5f6b34ed2834ccd723fc41945\n",
            "  Resolved https://github.com/openai/CLIP.git to commit dcba3cb2e2827b402d2701e7e1c7d9fed8a20ef1\n",
            "  Preparing metadata (setup.py) ... \u001b[?25l\u001b[?25hdone\n",
            "Requirement already satisfied: filelock in /usr/local/lib/python3.11/dist-packages (from shap-e==0.0.0) (3.18.0)\n",
            "Requirement already satisfied: Pillow in /usr/local/lib/python3.11/dist-packages (from shap-e==0.0.0) (11.2.1)\n",
            "Requirement already satisfied: torch in /usr/local/lib/python3.11/dist-packages (from shap-e==0.0.0) (2.6.0+cu124)\n",
            "Collecting fire (from shap-e==0.0.0)\n",
            "  Downloading fire-0.7.0.tar.gz (87 kB)\n",
            "\u001b[2K     \u001b[90m━━━━━━━━━━━━━━━━━━━━━━━━━━━━━━━━━━━━━━━━\u001b[0m \u001b[32m87.2/87.2 kB\u001b[0m \u001b[31m3.9 MB/s\u001b[0m eta \u001b[36m0:00:00\u001b[0m\n",
            "\u001b[?25h  Preparing metadata (setup.py) ... \u001b[?25l\u001b[?25hdone\n",
            "Requirement already satisfied: humanize in /usr/local/lib/python3.11/dist-packages (from shap-e==0.0.0) (4.12.3)\n",
            "Requirement already satisfied: requests in /usr/local/lib/python3.11/dist-packages (from shap-e==0.0.0) (2.32.3)\n",
            "Requirement already satisfied: tqdm in /usr/local/lib/python3.11/dist-packages (from shap-e==0.0.0) (4.67.1)\n",
            "Requirement already satisfied: matplotlib in /usr/local/lib/python3.11/dist-packages (from shap-e==0.0.0) (3.10.0)\n",
            "Requirement already satisfied: scikit-image in /usr/local/lib/python3.11/dist-packages (from shap-e==0.0.0) (0.25.2)\n",
            "Requirement already satisfied: scipy in /usr/local/lib/python3.11/dist-packages (from shap-e==0.0.0) (1.15.3)\n",
            "Requirement already satisfied: numpy in /usr/local/lib/python3.11/dist-packages (from shap-e==0.0.0) (2.0.2)\n",
            "Requirement already satisfied: blobfile in /usr/local/lib/python3.11/dist-packages (from shap-e==0.0.0) (3.0.0)\n",
            "Requirement already satisfied: pycryptodomex>=3.8 in /usr/local/lib/python3.11/dist-packages (from blobfile->shap-e==0.0.0) (3.23.0)\n",
            "Requirement already satisfied: urllib3<3,>=1.25.3 in /usr/local/lib/python3.11/dist-packages (from blobfile->shap-e==0.0.0) (2.4.0)\n",
            "Requirement already satisfied: lxml>=4.9 in /usr/local/lib/python3.11/dist-packages (from blobfile->shap-e==0.0.0) (5.4.0)\n",
            "Collecting ftfy (from clip@ git+https://github.com/openai/CLIP.git->shap-e==0.0.0)\n",
            "  Downloading ftfy-6.3.1-py3-none-any.whl.metadata (7.3 kB)\n",
            "Requirement already satisfied: packaging in /usr/local/lib/python3.11/dist-packages (from clip@ git+https://github.com/openai/CLIP.git->shap-e==0.0.0) (24.2)\n",
            "Requirement already satisfied: regex in /usr/local/lib/python3.11/dist-packages (from clip@ git+https://github.com/openai/CLIP.git->shap-e==0.0.0) (2024.11.6)\n",
            "Requirement already satisfied: torchvision in /usr/local/lib/python3.11/dist-packages (from clip@ git+https://github.com/openai/CLIP.git->shap-e==0.0.0) (0.21.0+cu124)\n",
            "Requirement already satisfied: termcolor in /usr/local/lib/python3.11/dist-packages (from fire->shap-e==0.0.0) (3.1.0)\n",
            "Requirement already satisfied: contourpy>=1.0.1 in /usr/local/lib/python3.11/dist-packages (from matplotlib->shap-e==0.0.0) (1.3.2)\n",
            "Requirement already satisfied: cycler>=0.10 in /usr/local/lib/python3.11/dist-packages (from matplotlib->shap-e==0.0.0) (0.12.1)\n",
            "Requirement already satisfied: fonttools>=4.22.0 in /usr/local/lib/python3.11/dist-packages (from matplotlib->shap-e==0.0.0) (4.58.5)\n",
            "Requirement already satisfied: kiwisolver>=1.3.1 in /usr/local/lib/python3.11/dist-packages (from matplotlib->shap-e==0.0.0) (1.4.8)\n",
            "Requirement already satisfied: pyparsing>=2.3.1 in /usr/local/lib/python3.11/dist-packages (from matplotlib->shap-e==0.0.0) (3.2.3)\n",
            "Requirement already satisfied: python-dateutil>=2.7 in /usr/local/lib/python3.11/dist-packages (from matplotlib->shap-e==0.0.0) (2.9.0.post0)\n",
            "Requirement already satisfied: charset-normalizer<4,>=2 in /usr/local/lib/python3.11/dist-packages (from requests->shap-e==0.0.0) (3.4.2)\n",
            "Requirement already satisfied: idna<4,>=2.5 in /usr/local/lib/python3.11/dist-packages (from requests->shap-e==0.0.0) (3.10)\n",
            "Requirement already satisfied: certifi>=2017.4.17 in /usr/local/lib/python3.11/dist-packages (from requests->shap-e==0.0.0) (2025.6.15)\n",
            "Requirement already satisfied: networkx>=3.0 in /usr/local/lib/python3.11/dist-packages (from scikit-image->shap-e==0.0.0) (3.5)\n",
            "Requirement already satisfied: imageio!=2.35.0,>=2.33 in /usr/local/lib/python3.11/dist-packages (from scikit-image->shap-e==0.0.0) (2.37.0)\n",
            "Requirement already satisfied: tifffile>=2022.8.12 in /usr/local/lib/python3.11/dist-packages (from scikit-image->shap-e==0.0.0) (2025.6.11)\n",
            "Requirement already satisfied: lazy-loader>=0.4 in /usr/local/lib/python3.11/dist-packages (from scikit-image->shap-e==0.0.0) (0.4)\n",
            "Requirement already satisfied: typing-extensions>=4.10.0 in /usr/local/lib/python3.11/dist-packages (from torch->shap-e==0.0.0) (4.14.1)\n",
            "Requirement already satisfied: jinja2 in /usr/local/lib/python3.11/dist-packages (from torch->shap-e==0.0.0) (3.1.6)\n",
            "Requirement already satisfied: fsspec in /usr/local/lib/python3.11/dist-packages (from torch->shap-e==0.0.0) (2025.3.2)\n",
            "Collecting nvidia-cuda-nvrtc-cu12==12.4.127 (from torch->shap-e==0.0.0)\n",
            "  Downloading nvidia_cuda_nvrtc_cu12-12.4.127-py3-none-manylinux2014_x86_64.whl.metadata (1.5 kB)\n",
            "Collecting nvidia-cuda-runtime-cu12==12.4.127 (from torch->shap-e==0.0.0)\n",
            "  Downloading nvidia_cuda_runtime_cu12-12.4.127-py3-none-manylinux2014_x86_64.whl.metadata (1.5 kB)\n",
            "Collecting nvidia-cuda-cupti-cu12==12.4.127 (from torch->shap-e==0.0.0)\n",
            "  Downloading nvidia_cuda_cupti_cu12-12.4.127-py3-none-manylinux2014_x86_64.whl.metadata (1.6 kB)\n",
            "Collecting nvidia-cudnn-cu12==9.1.0.70 (from torch->shap-e==0.0.0)\n",
            "  Downloading nvidia_cudnn_cu12-9.1.0.70-py3-none-manylinux2014_x86_64.whl.metadata (1.6 kB)\n",
            "Collecting nvidia-cublas-cu12==12.4.5.8 (from torch->shap-e==0.0.0)\n",
            "  Downloading nvidia_cublas_cu12-12.4.5.8-py3-none-manylinux2014_x86_64.whl.metadata (1.5 kB)\n",
            "Collecting nvidia-cufft-cu12==11.2.1.3 (from torch->shap-e==0.0.0)\n",
            "  Downloading nvidia_cufft_cu12-11.2.1.3-py3-none-manylinux2014_x86_64.whl.metadata (1.5 kB)\n",
            "Collecting nvidia-curand-cu12==10.3.5.147 (from torch->shap-e==0.0.0)\n",
            "  Downloading nvidia_curand_cu12-10.3.5.147-py3-none-manylinux2014_x86_64.whl.metadata (1.5 kB)\n",
            "Collecting nvidia-cusolver-cu12==11.6.1.9 (from torch->shap-e==0.0.0)\n",
            "  Downloading nvidia_cusolver_cu12-11.6.1.9-py3-none-manylinux2014_x86_64.whl.metadata (1.6 kB)\n",
            "Collecting nvidia-cusparse-cu12==12.3.1.170 (from torch->shap-e==0.0.0)\n",
            "  Downloading nvidia_cusparse_cu12-12.3.1.170-py3-none-manylinux2014_x86_64.whl.metadata (1.6 kB)\n",
            "Requirement already satisfied: nvidia-cusparselt-cu12==0.6.2 in /usr/local/lib/python3.11/dist-packages (from torch->shap-e==0.0.0) (0.6.2)\n",
            "Requirement already satisfied: nvidia-nccl-cu12==2.21.5 in /usr/local/lib/python3.11/dist-packages (from torch->shap-e==0.0.0) (2.21.5)\n",
            "Requirement already satisfied: nvidia-nvtx-cu12==12.4.127 in /usr/local/lib/python3.11/dist-packages (from torch->shap-e==0.0.0) (12.4.127)\n",
            "Collecting nvidia-nvjitlink-cu12==12.4.127 (from torch->shap-e==0.0.0)\n",
            "  Downloading nvidia_nvjitlink_cu12-12.4.127-py3-none-manylinux2014_x86_64.whl.metadata (1.5 kB)\n",
            "Requirement already satisfied: triton==3.2.0 in /usr/local/lib/python3.11/dist-packages (from torch->shap-e==0.0.0) (3.2.0)\n",
            "Requirement already satisfied: sympy==1.13.1 in /usr/local/lib/python3.11/dist-packages (from torch->shap-e==0.0.0) (1.13.1)\n",
            "Requirement already satisfied: mpmath<1.4,>=1.1.0 in /usr/local/lib/python3.11/dist-packages (from sympy==1.13.1->torch->shap-e==0.0.0) (1.3.0)\n",
            "Requirement already satisfied: six>=1.5 in /usr/local/lib/python3.11/dist-packages (from python-dateutil>=2.7->matplotlib->shap-e==0.0.0) (1.17.0)\n",
            "Requirement already satisfied: wcwidth in /usr/local/lib/python3.11/dist-packages (from ftfy->clip@ git+https://github.com/openai/CLIP.git->shap-e==0.0.0) (0.2.13)\n",
            "Requirement already satisfied: MarkupSafe>=2.0 in /usr/local/lib/python3.11/dist-packages (from jinja2->torch->shap-e==0.0.0) (3.0.2)\n",
            "Downloading nvidia_cublas_cu12-12.4.5.8-py3-none-manylinux2014_x86_64.whl (363.4 MB)\n",
            "\u001b[2K   \u001b[90m━━━━━━━━━━━━━━━━━━━━━━━━━━━━━━━━━━━━━━━━\u001b[0m \u001b[32m363.4/363.4 MB\u001b[0m \u001b[31m4.6 MB/s\u001b[0m eta \u001b[36m0:00:00\u001b[0m\n",
            "\u001b[?25hDownloading nvidia_cuda_cupti_cu12-12.4.127-py3-none-manylinux2014_x86_64.whl (13.8 MB)\n",
            "\u001b[2K   \u001b[90m━━━━━━━━━━━━━━━━━━━━━━━━━━━━━━━━━━━━━━━━\u001b[0m \u001b[32m13.8/13.8 MB\u001b[0m \u001b[31m123.1 MB/s\u001b[0m eta \u001b[36m0:00:00\u001b[0m\n",
            "\u001b[?25hDownloading nvidia_cuda_nvrtc_cu12-12.4.127-py3-none-manylinux2014_x86_64.whl (24.6 MB)\n",
            "\u001b[2K   \u001b[90m━━━━━━━━━━━━━━━━━━━━━━━━━━━━━━━━━━━━━━━━\u001b[0m \u001b[32m24.6/24.6 MB\u001b[0m \u001b[31m91.6 MB/s\u001b[0m eta \u001b[36m0:00:00\u001b[0m\n",
            "\u001b[?25hDownloading nvidia_cuda_runtime_cu12-12.4.127-py3-none-manylinux2014_x86_64.whl (883 kB)\n",
            "\u001b[2K   \u001b[90m━━━━━━━━━━━━━━━━━━━━━━━━━━━━━━━━━━━━━━━━\u001b[0m \u001b[32m883.7/883.7 kB\u001b[0m \u001b[31m59.1 MB/s\u001b[0m eta \u001b[36m0:00:00\u001b[0m\n",
            "\u001b[?25hDownloading nvidia_cudnn_cu12-9.1.0.70-py3-none-manylinux2014_x86_64.whl (664.8 MB)\n",
            "\u001b[2K   \u001b[90m━━━━━━━━━━━━━━━━━━━━━━━━━━━━━━━━━━━━━━━━\u001b[0m \u001b[32m664.8/664.8 MB\u001b[0m \u001b[31m2.1 MB/s\u001b[0m eta \u001b[36m0:00:00\u001b[0m\n",
            "\u001b[?25hDownloading nvidia_cufft_cu12-11.2.1.3-py3-none-manylinux2014_x86_64.whl (211.5 MB)\n",
            "\u001b[2K   \u001b[90m━━━━━━━━━━━━━━━━━━━━━━━━━━━━━━━━━━━━━━━━\u001b[0m \u001b[32m211.5/211.5 MB\u001b[0m \u001b[31m5.1 MB/s\u001b[0m eta \u001b[36m0:00:00\u001b[0m\n",
            "\u001b[?25hDownloading nvidia_curand_cu12-10.3.5.147-py3-none-manylinux2014_x86_64.whl (56.3 MB)\n",
            "\u001b[2K   \u001b[90m━━━━━━━━━━━━━━━━━━━━━━━━━━━━━━━━━━━━━━━━\u001b[0m \u001b[32m56.3/56.3 MB\u001b[0m \u001b[31m12.8 MB/s\u001b[0m eta \u001b[36m0:00:00\u001b[0m\n",
            "\u001b[?25hDownloading nvidia_cusolver_cu12-11.6.1.9-py3-none-manylinux2014_x86_64.whl (127.9 MB)\n",
            "\u001b[2K   \u001b[90m━━━━━━━━━━━━━━━━━━━━━━━━━━━━━━━━━━━━━━━━\u001b[0m \u001b[32m127.9/127.9 MB\u001b[0m \u001b[31m7.9 MB/s\u001b[0m eta \u001b[36m0:00:00\u001b[0m\n",
            "\u001b[?25hDownloading nvidia_cusparse_cu12-12.3.1.170-py3-none-manylinux2014_x86_64.whl (207.5 MB)\n",
            "\u001b[2K   \u001b[90m━━━━━━━━━━━━━━━━━━━━━━━━━━━━━━━━━━━━━━━━\u001b[0m \u001b[32m207.5/207.5 MB\u001b[0m \u001b[31m5.4 MB/s\u001b[0m eta \u001b[36m0:00:00\u001b[0m\n",
            "\u001b[?25hDownloading nvidia_nvjitlink_cu12-12.4.127-py3-none-manylinux2014_x86_64.whl (21.1 MB)\n",
            "\u001b[2K   \u001b[90m━━━━━━━━━━━━━━━━━━━━━━━━━━━━━━━━━━━━━━━━\u001b[0m \u001b[32m21.1/21.1 MB\u001b[0m \u001b[31m105.9 MB/s\u001b[0m eta \u001b[36m0:00:00\u001b[0m\n",
            "\u001b[?25hDownloading ftfy-6.3.1-py3-none-any.whl (44 kB)\n",
            "\u001b[2K   \u001b[90m━━━━━━━━━━━━━━━━━━━━━━━━━━━━━━━━━━━━━━━━\u001b[0m \u001b[32m44.8/44.8 kB\u001b[0m \u001b[31m4.0 MB/s\u001b[0m eta \u001b[36m0:00:00\u001b[0m\n",
            "\u001b[?25hBuilding wheels for collected packages: clip, fire\n",
            "  Building wheel for clip (setup.py) ... \u001b[?25l\u001b[?25hdone\n",
            "  Created wheel for clip: filename=clip-1.0-py3-none-any.whl size=1369490 sha256=845ded155c39ab6ab27fe7e235d8f3a13bd07d0f731009c4a6e5eb4d6f3e5e70\n",
            "  Stored in directory: /tmp/pip-ephem-wheel-cache-zglwv444/wheels/3f/7c/a4/9b490845988bf7a4db33674d52f709f088f64392063872eb9a\n",
            "  Building wheel for fire (setup.py) ... \u001b[?25l\u001b[?25hdone\n",
            "  Created wheel for fire: filename=fire-0.7.0-py3-none-any.whl size=114249 sha256=cc30f9269cdc413e2aa33e79bc52dc3f2216fd86cda9ec9e17e1449273e40c7d\n",
            "  Stored in directory: /root/.cache/pip/wheels/46/54/24/1624fd5b8674eb1188623f7e8e17cdf7c0f6c24b609dfb8a89\n",
            "Successfully built clip fire\n",
            "Installing collected packages: nvidia-nvjitlink-cu12, nvidia-curand-cu12, nvidia-cufft-cu12, nvidia-cuda-runtime-cu12, nvidia-cuda-nvrtc-cu12, nvidia-cuda-cupti-cu12, nvidia-cublas-cu12, ftfy, fire, nvidia-cusparse-cu12, nvidia-cudnn-cu12, nvidia-cusolver-cu12, clip, shap-e\n",
            "  Attempting uninstall: nvidia-nvjitlink-cu12\n",
            "    Found existing installation: nvidia-nvjitlink-cu12 12.5.82\n",
            "    Uninstalling nvidia-nvjitlink-cu12-12.5.82:\n",
            "      Successfully uninstalled nvidia-nvjitlink-cu12-12.5.82\n",
            "  Attempting uninstall: nvidia-curand-cu12\n",
            "    Found existing installation: nvidia-curand-cu12 10.3.6.82\n",
            "    Uninstalling nvidia-curand-cu12-10.3.6.82:\n",
            "      Successfully uninstalled nvidia-curand-cu12-10.3.6.82\n",
            "  Attempting uninstall: nvidia-cufft-cu12\n",
            "    Found existing installation: nvidia-cufft-cu12 11.2.3.61\n",
            "    Uninstalling nvidia-cufft-cu12-11.2.3.61:\n",
            "      Successfully uninstalled nvidia-cufft-cu12-11.2.3.61\n",
            "  Attempting uninstall: nvidia-cuda-runtime-cu12\n",
            "    Found existing installation: nvidia-cuda-runtime-cu12 12.5.82\n",
            "    Uninstalling nvidia-cuda-runtime-cu12-12.5.82:\n",
            "      Successfully uninstalled nvidia-cuda-runtime-cu12-12.5.82\n",
            "  Attempting uninstall: nvidia-cuda-nvrtc-cu12\n",
            "    Found existing installation: nvidia-cuda-nvrtc-cu12 12.5.82\n",
            "    Uninstalling nvidia-cuda-nvrtc-cu12-12.5.82:\n",
            "      Successfully uninstalled nvidia-cuda-nvrtc-cu12-12.5.82\n",
            "  Attempting uninstall: nvidia-cuda-cupti-cu12\n",
            "    Found existing installation: nvidia-cuda-cupti-cu12 12.5.82\n",
            "    Uninstalling nvidia-cuda-cupti-cu12-12.5.82:\n",
            "      Successfully uninstalled nvidia-cuda-cupti-cu12-12.5.82\n",
            "  Attempting uninstall: nvidia-cublas-cu12\n",
            "    Found existing installation: nvidia-cublas-cu12 12.5.3.2\n",
            "    Uninstalling nvidia-cublas-cu12-12.5.3.2:\n",
            "      Successfully uninstalled nvidia-cublas-cu12-12.5.3.2\n",
            "  Attempting uninstall: nvidia-cusparse-cu12\n",
            "    Found existing installation: nvidia-cusparse-cu12 12.5.1.3\n",
            "    Uninstalling nvidia-cusparse-cu12-12.5.1.3:\n",
            "      Successfully uninstalled nvidia-cusparse-cu12-12.5.1.3\n",
            "  Attempting uninstall: nvidia-cudnn-cu12\n",
            "    Found existing installation: nvidia-cudnn-cu12 9.3.0.75\n",
            "    Uninstalling nvidia-cudnn-cu12-9.3.0.75:\n",
            "      Successfully uninstalled nvidia-cudnn-cu12-9.3.0.75\n",
            "  Attempting uninstall: nvidia-cusolver-cu12\n",
            "    Found existing installation: nvidia-cusolver-cu12 11.6.3.83\n",
            "    Uninstalling nvidia-cusolver-cu12-11.6.3.83:\n",
            "      Successfully uninstalled nvidia-cusolver-cu12-11.6.3.83\n",
            "  Running setup.py develop for shap-e\n",
            "Successfully installed clip-1.0 fire-0.7.0 ftfy-6.3.1 nvidia-cublas-cu12-12.4.5.8 nvidia-cuda-cupti-cu12-12.4.127 nvidia-cuda-nvrtc-cu12-12.4.127 nvidia-cuda-runtime-cu12-12.4.127 nvidia-cudnn-cu12-9.1.0.70 nvidia-cufft-cu12-11.2.1.3 nvidia-curand-cu12-10.3.5.147 nvidia-cusolver-cu12-11.6.1.9 nvidia-cusparse-cu12-12.3.1.170 nvidia-nvjitlink-cu12-12.4.127 shap-e-0.0.0\n"
          ]
        }
      ],
      "source": [
        "pip install -e ."
      ]
    },
    {
      "cell_type": "code",
      "execution_count": 6,
      "metadata": {
        "id": "PmmQa-pVxn-j"
      },
      "outputs": [],
      "source": [
        "import torch\n",
        "\n",
        "from shap_e.diffusion.sample import sample_latents\n",
        "from shap_e.diffusion.gaussian_diffusion import diffusion_from_config\n",
        "from shap_e.models.download import load_model, load_config\n",
        "from shap_e.util.notebooks import create_pan_cameras, decode_latent_images, gif_widget"
      ]
    },
    {
      "cell_type": "code",
      "execution_count": 7,
      "metadata": {
        "colab": {
          "base_uri": "https://localhost:8080/",
          "height": 257,
          "referenced_widgets": [
            "5034e770ab9741cda11a6aaf0968375e",
            "8c35cf7a81b246719c5aa35ba3e07add",
            "50e87c7e2ea34c10b5a9e3b10d956e31",
            "2a28bd929c7b41d5b54f0f7676161827",
            "78adc582ba5545eab2a5e90c7e0eb81c",
            "72bdcf04ca0540558829ee0b931f829c",
            "e1f848919f0b48b9b8fc0c048132ea07",
            "81fc7c2ebda3416485938eb845ceedc4",
            "4a68dfdcf95d4d73ade15bcd728d9bc7",
            "0e785f1945af46619061719ba27efe40",
            "4d20fc5cdffb41639ba238821781c91a",
            "6e9236fe656b45069005fa3e3c18444b",
            "50a88ef9b9224696b94a68141e8759e7",
            "b485b2297b6d445a99611dc8abb8915a",
            "c25e7fd44a434249ad73ba90b9bdb62b",
            "440e74e4e23448ecbce182e1cccdb523",
            "014e719eea5c45c4805a0ae24a60d873",
            "8df6c32fe71d4c35b13aa9272f9275c7",
            "a84b90fa6c7f4aef95d0f2d310b0a6bd",
            "9283fe2f590241b8a0a27512d9905d83",
            "1cbd03009ef146d9aafa5079b377dca8",
            "f5c6a9fd499c4022906747f4daf7f819"
          ]
        },
        "id": "jgoFD8Bzx3zE",
        "outputId": "859f8369-4b04-482a-db89-fb5baf671f87"
      },
      "outputs": [
        {
          "name": "stderr",
          "output_type": "stream",
          "text": [
            "/content/shap-e/shap_e/models/nn/checkpoint.py:31: FutureWarning: `torch.cuda.amp.custom_fwd(args...)` is deprecated. Please use `torch.amp.custom_fwd(args..., device_type='cuda')` instead.\n",
            "  @custom_fwd\n",
            "/content/shap-e/shap_e/models/nn/checkpoint.py:43: FutureWarning: `torch.cuda.amp.custom_bwd(args...)` is deprecated. Please use `torch.amp.custom_bwd(args..., device_type='cuda')` instead.\n",
            "  @custom_bwd\n",
            "/content/shap-e/shap_e/models/nn/checkpoint.py:61: FutureWarning: `torch.cuda.amp.custom_fwd(args...)` is deprecated. Please use `torch.amp.custom_fwd(args..., device_type='cuda')` instead.\n",
            "  @custom_fwd\n",
            "/content/shap-e/shap_e/models/nn/checkpoint.py:86: FutureWarning: `torch.cuda.amp.custom_bwd(args...)` is deprecated. Please use `torch.amp.custom_bwd(args..., device_type='cuda')` instead.\n",
            "  @custom_bwd\n"
          ]
        },
        {
          "data": {
            "application/vnd.jupyter.widget-view+json": {
              "model_id": "5034e770ab9741cda11a6aaf0968375e",
              "version_major": 2,
              "version_minor": 0
            },
            "text/plain": [
              "  0%|          | 0.00/1.78G [00:00<?, ?iB/s]"
            ]
          },
          "metadata": {},
          "output_type": "display_data"
        },
        {
          "name": "stderr",
          "output_type": "stream",
          "text": [
            "100%|███████████████████████████████████████| 890M/890M [00:12<00:00, 75.7MiB/s]\n"
          ]
        },
        {
          "data": {
            "application/vnd.jupyter.widget-view+json": {
              "model_id": "6e9236fe656b45069005fa3e3c18444b",
              "version_major": 2,
              "version_minor": 0
            },
            "text/plain": [
              "  0%|          | 0.00/1.26G [00:00<?, ?iB/s]"
            ]
          },
          "metadata": {},
          "output_type": "display_data"
        }
      ],
      "source": [
        "device = torch.device('cuda' if torch.cuda.is_available() else 'cpu')\n",
        "xm = load_model('transmitter', device=device)\n",
        "model = load_model('text300M', device=device)\n",
        "diffusion = diffusion_from_config(load_config('diffusion'))"
      ]
    },
    {
      "cell_type": "markdown",
      "metadata": {},
      "source": [
        "sample understanding of how it works"
      ]
    },
    {
      "cell_type": "code",
      "execution_count": null,
      "metadata": {
        "colab": {
          "base_uri": "https://localhost:8080/",
          "height": 49,
          "referenced_widgets": [
            "d2d6601a60e54542b2c2f8e6d52db533",
            "c93c1a9d2cdd45458ddecf3e5c3a58dd",
            "ea198cf162d747bc8af3b9ae5aee92b8",
            "527d97243d054034b52731df3d706099",
            "5e1cd464f12c4284a96be3fb32fc54db",
            "1e0475cf3c8540fa969425c93cc0a9de",
            "eac5316ae0294a3da7b606d4c458d211",
            "b1d20f81d7804d169c664bf76fe11a3d",
            "314e4239cb3d4d3d96a1ffb742d39c71",
            "7f307955aba442e19810f3638fe3461f",
            "bfa465ab79b643309ce96c06ac797e0a"
          ]
        },
        "id": "UjJMwPzex_od",
        "outputId": "8da95416-b89f-4bf6-9040-6d631645bd9a"
      },
      "outputs": [
        {
          "data": {
            "application/vnd.jupyter.widget-view+json": {
              "model_id": "d2d6601a60e54542b2c2f8e6d52db533",
              "version_major": 2,
              "version_minor": 0
            },
            "text/plain": [
              "  0%|          | 0/64 [00:00<?, ?it/s]"
            ]
          },
          "metadata": {},
          "output_type": "display_data"
        }
      ],
      "source": [
        "batch_size = 4\n",
        "guidance_scale = 15.0\n",
        "prompt = \"a shark\"\n",
        "\n",
        "latents = sample_latents(\n",
        "    batch_size=batch_size,\n",
        "    model=model,\n",
        "    diffusion=diffusion,\n",
        "    guidance_scale=guidance_scale,\n",
        "    model_kwargs=dict(texts=[prompt] * batch_size),\n",
        "    progress=True,\n",
        "    clip_denoised=True,\n",
        "    use_fp16=True,\n",
        "    use_karras=True,\n",
        "    karras_steps=64,\n",
        "    sigma_min=1e-3,\n",
        "    sigma_max=160,\n",
        "    s_churn=0,\n",
        ")"
      ]
    },
    {
      "cell_type": "code",
      "execution_count": null,
      "metadata": {
        "colab": {
          "base_uri": "https://localhost:8080/",
          "height": 321,
          "referenced_widgets": [
            "af048afa0da14af4baa05d6c2ba135a0",
            "a878746f1b314731ae8ebed408512778",
            "4af896fe94804c9b84944873b81105b4",
            "c8ee6d80eeb5440b977cde09cb1bb5a5",
            "c9106f335410451099ef06bba37a3b03",
            "140369c64eb040a59843745ea5db2f67",
            "e333a882df7b44a7a01c9c0082df7cd4",
            "32b616dfd37e40489e56335a34be18b1",
            "559cfe02bc8d473d8393ce6fbce6f6b5",
            "48cd6a18bcb5439c94f8c6f656ad1b02",
            "2dbaf299fbb94723bd5dcb4fafa30b82",
            "12b485043fef475b8feb724b9d96ce04"
          ]
        },
        "id": "k3i0IShHyFtl",
        "outputId": "48c44c2c-06fe-443c-a0ac-52dbb1562321"
      },
      "outputs": [
        {
          "data": {
            "application/vnd.jupyter.widget-view+json": {
              "model_id": "af048afa0da14af4baa05d6c2ba135a0",
              "version_major": 2,
              "version_minor": 0
            },
            "text/plain": [
              "HTML(value='<img src=\"data:image/gif;base64,R0lGODlhQABAAIYAAFh1gE9wfUtvek5ue01ufFBteU5sdkpteUdse1BrdkdqeUZqfE…"
            ]
          },
          "metadata": {},
          "output_type": "display_data"
        },
        {
          "data": {
            "application/vnd.jupyter.widget-view+json": {
              "model_id": "c8ee6d80eeb5440b977cde09cb1bb5a5",
              "version_major": 2,
              "version_minor": 0
            },
            "text/plain": [
              "HTML(value='<img src=\"data:image/gif;base64,R0lGODlhQABAAIcAAHCZnmKSl2mRkFSMkl2Kk1uJilSJk1GHkE6Fi1J+g1Z5fz9ygT…"
            ]
          },
          "metadata": {},
          "output_type": "display_data"
        },
        {
          "data": {
            "application/vnd.jupyter.widget-view+json": {
              "model_id": "e333a882df7b44a7a01c9c0082df7cd4",
              "version_major": 2,
              "version_minor": 0
            },
            "text/plain": [
              "HTML(value='<img src=\"data:image/gif;base64,R0lGODlhQABAAIcAAK2vrqyuramrq6epqKGjo6GjoqGioKGin6Cin6Cgnp6hnZ+fnp…"
            ]
          },
          "metadata": {},
          "output_type": "display_data"
        },
        {
          "data": {
            "application/vnd.jupyter.widget-view+json": {
              "model_id": "48cd6a18bcb5439c94f8c6f656ad1b02",
              "version_major": 2,
              "version_minor": 0
            },
            "text/plain": [
              "HTML(value='<img src=\"data:image/gif;base64,R0lGODlhQABAAIYAAIOalGqNjGGCil15e1N6fVh3fVR2f1JyfUtxek5vek5veEpwdk…"
            ]
          },
          "metadata": {},
          "output_type": "display_data"
        }
      ],
      "source": [
        "render_mode = 'nerf' # you can change this to 'stf'\n",
        "size = 64 # this is the size of the renders; higher values take longer to render.\n",
        "\n",
        "cameras = create_pan_cameras(size, device)\n",
        "for i, latent in enumerate(latents):\n",
        "    images = decode_latent_images(xm, latent, cameras, rendering_mode=render_mode)\n",
        "    display(gif_widget(images))"
      ]
    },
    {
      "cell_type": "code",
      "execution_count": null,
      "metadata": {
        "colab": {
          "base_uri": "https://localhost:8080/"
        },
        "id": "1dyNVhUhyLOi",
        "outputId": "9334e820-d483-4774-af69-03fc21aa82e3"
      },
      "outputs": [
        {
          "name": "stderr",
          "output_type": "stream",
          "text": [
            "/content/shap-e/shap_e/models/stf/renderer.py:286: UserWarning: exception rendering with PyTorch3D: No module named 'pytorch3d'\n",
            "  warnings.warn(f\"exception rendering with PyTorch3D: {exc}\")\n",
            "/content/shap-e/shap_e/models/stf/renderer.py:287: UserWarning: falling back on native PyTorch renderer, which does not support full gradients\n",
            "  warnings.warn(\n"
          ]
        }
      ],
      "source": [
        "from shap_e.util.notebooks import decode_latent_mesh\n",
        "\n",
        "for i, latent in enumerate(latents):\n",
        "    t = decode_latent_mesh(xm, latent).tri_mesh()\n",
        "    with open(f'example_mesh_{i}.ply', 'wb') as f:\n",
        "        t.write_ply(f)\n",
        "    with open(f'example_mesh_{i}.obj', 'w') as f:\n",
        "        t.write_obj(f)"
      ]
    },
    {
      "cell_type": "markdown",
      "metadata": {},
      "source": [
        "The prompt given and click on button and the obj will be generated."
      ]
    },
    {
      "cell_type": "code",
      "execution_count": 9,
      "metadata": {
        "colab": {
          "base_uri": "https://localhost:8080/",
          "height": 892,
          "referenced_widgets": [
            "d049d9cce4d34835b0c22ef1343bb7a0",
            "1a58c37cb80f482294fd68360591abc0",
            "6bb618796cd6461cb8a9fdbb405c59b8",
            "521059ba5cf24a4f900f5de353e7f052",
            "44cf4d2bdd1241a89628f5cebeeed30e",
            "49938f60f11e4b5bb6c10393b375f55c",
            "df2142303bfd4a3cad691a0005b0deee",
            "a6a64f8bcae54906a678f9425a793c19",
            "fb7dfeb8acfa4fe282dd1a9b63cfc803",
            "aa0943a531a44c36b71915315abb3407",
            "a06c3c13a4cd4896b204a3707c6b36d5",
            "1deec5a599624e008a660607a2063a03",
            "4657d877ea5248d2a583573f9c1582fe",
            "f6c910652933487f8a3dc8410f60abee",
            "6bb97c3c81854be4904d958e39cfcc09",
            "741b9f90895a4a82b11219afe9b77450",
            "b5a7cd833d96467d992a8c1dbad26907",
            "d9491bfba5f342978e2c647b16d0f44f",
            "3f817e291c8342f28ffa2965f3aa5a05",
            "91dc6fbc2f40464e8de6e5a1e6780097",
            "42ed170f75d742c9acbde307b9042827",
            "0673e93600cb4c36a19a02a8deff6fc9",
            "7569db9cdfd84d54899c6aadd23be146",
            "94a35edbc58f473c9a284ed7e1a4fe95",
            "f327e81825c045918f27ead3f70fd720",
            "b5232c43ecb64f9fb43026fa69ade680",
            "a657c7cbe1c243118a07478465172ec9",
            "e169f20efc33412a8a503d74175539d9",
            "4beb68c5f1c74e91bf7fac8d0f7f3c38",
            "259a1f62108b4781b81c4f44ce378957",
            "593372dc6d9f44bcb34fd6d9e043abe8"
          ]
        },
        "id": "ZdrJ0ZL30fR0",
        "outputId": "22fc25b9-3496-4d0d-e8e1-4fda919afa10"
      },
      "outputs": [
        {
          "data": {
            "application/vnd.jupyter.widget-view+json": {
              "model_id": "d049d9cce4d34835b0c22ef1343bb7a0",
              "version_major": 2,
              "version_minor": 0
            },
            "text/plain": [
              "Text(value='a shark', description='Prompt:', layout=Layout(width='70%'), placeholder='Type your text prompt he…"
            ]
          },
          "metadata": {},
          "output_type": "display_data"
        },
        {
          "data": {
            "application/vnd.jupyter.widget-view+json": {
              "model_id": "521059ba5cf24a4f900f5de353e7f052",
              "version_major": 2,
              "version_minor": 0
            },
            "text/plain": [
              "Button(button_style='primary', description='Generate 3D', style=ButtonStyle())"
            ]
          },
          "metadata": {},
          "output_type": "display_data"
        },
        {
          "data": {
            "application/vnd.jupyter.widget-view+json": {
              "model_id": "df2142303bfd4a3cad691a0005b0deee",
              "version_major": 2,
              "version_minor": 0
            },
            "text/plain": [
              "Output()"
            ]
          },
          "metadata": {},
          "output_type": "display_data"
        }
      ],
      "source": [
        "\n",
        "#UI: prompt box + “Generate” button\n",
        "\n",
        "import ipywidgets as widgets\n",
        "from IPython.display import display, clear_output, FileLink\n",
        "from google.colab import files\n",
        "from shap_e.util.notebooks import decode_latent_mesh\n",
        "\n",
        "prompt_in = widgets.Text(\n",
        "    value='a shark',\n",
        "    placeholder='Type your text prompt here',\n",
        "    description='Prompt:',\n",
        "    layout=widgets.Layout(width='70%')\n",
        ")\n",
        "btn = widgets.Button(description='Generate 3D', button_style='primary')\n",
        "output = widgets.Output()\n",
        "display(prompt_in, btn, output)\n",
        "\n",
        "\n",
        "# Callback to run your Shap‑E code, one batch only\n",
        "\n",
        "def on_generate(_):\n",
        "    with output:\n",
        "        clear_output()\n",
        "        prompt = prompt_in.value\n",
        "        print(f\"▶️ Generating for prompt: “{prompt}” …\")\n",
        "\n",
        "        # your existing settings\n",
        "        batch_size = 4\n",
        "        guidance_scale = 15.0\n",
        "        render_mode = 'nerf'\n",
        "        size = 64\n",
        "\n",
        "        # 2.a) sample latents\n",
        "        latents = sample_latents(\n",
        "            batch_size=batch_size,\n",
        "            model=model,\n",
        "            diffusion=diffusion,\n",
        "            guidance_scale=guidance_scale,\n",
        "            model_kwargs=dict(texts=[prompt] * batch_size),\n",
        "            progress=True,\n",
        "            clip_denoised=True,\n",
        "            use_fp16=True,\n",
        "            use_karras=True,\n",
        "            karras_steps=64,\n",
        "            sigma_min=1e-3,\n",
        "            sigma_max=160,\n",
        "            s_churn=0,\n",
        "        )\n",
        "\n",
        "        # 2.b) render & display each as GIF\n",
        "        cameras = create_pan_cameras(size, device)\n",
        "        for i, latent in enumerate(latents):\n",
        "            images = decode_latent_images(xm, latent, cameras, rendering_mode=render_mode)\n",
        "            print(f\"Result #{i}:\")\n",
        "            display(gif_widget(images))\n",
        "\n",
        "        # 2.c) decode to meshes and save + link them\n",
        "        print(\"\\n💾 Saving meshes and providing download links:\")\n",
        "        for i, latent in enumerate(latents):\n",
        "            mesh = decode_latent_mesh(xm, latent).tri_mesh()\n",
        "            ply_path = f'example_mesh_{i}.ply'\n",
        "            obj_path = f'example_mesh_{i}.obj'\n",
        "            glb_path = f'example_mesh_{i}.glb'\n",
        "            # open file handles and write\n",
        "            with open(ply_path, 'wb') as f_ply:\n",
        "                mesh.write_ply(f_ply)\n",
        "            with open(obj_path, 'w') as f_obj:\n",
        "                mesh.write_obj(f_obj)\n",
        "            with open(glb_path, 'w') as glb_obj:\n",
        "                mesh.write_obj(glb_obj)\n",
        "            # Show direct Colab download links\n",
        "            display(FileLink(ply_path))\n",
        "            display(FileLink(obj_path))\n",
        "            display(FileLink(glb_path))\n",
        "        print(\"\\n✅ Done!\")\n",
        "\n",
        "btn.on_click(on_generate)\n"
      ]
    },
    {
      "cell_type": "code",
      "execution_count": null,
      "metadata": {
        "id": "ULVdE2vO48YM"
      },
      "outputs": [],
      "source": []
    }
  ],
  "metadata": {
    "accelerator": "GPU",
    "colab": {
      "gpuType": "T4",
      "provenance": []
    },
    "kernelspec": {
      "display_name": "Python 3",
      "name": "python3"
    },
    "language_info": {
      "name": "python"
    },
    "widgets": {
      "application/vnd.jupyter.widget-state+json": {
        "014e719eea5c45c4805a0ae24a60d873": {
          "model_module": "@jupyter-widgets/base",
          "model_module_version": "1.2.0",
          "model_name": "LayoutModel",
          "state": {
            "_model_module": "@jupyter-widgets/base",
            "_model_module_version": "1.2.0",
            "_model_name": "LayoutModel",
            "_view_count": null,
            "_view_module": "@jupyter-widgets/base",
            "_view_module_version": "1.2.0",
            "_view_name": "LayoutView",
            "align_content": null,
            "align_items": null,
            "align_self": null,
            "border": null,
            "bottom": null,
            "display": null,
            "flex": null,
            "flex_flow": null,
            "grid_area": null,
            "grid_auto_columns": null,
            "grid_auto_flow": null,
            "grid_auto_rows": null,
            "grid_column": null,
            "grid_gap": null,
            "grid_row": null,
            "grid_template_areas": null,
            "grid_template_columns": null,
            "grid_template_rows": null,
            "height": null,
            "justify_content": null,
            "justify_items": null,
            "left": null,
            "margin": null,
            "max_height": null,
            "max_width": null,
            "min_height": null,
            "min_width": null,
            "object_fit": null,
            "object_position": null,
            "order": null,
            "overflow": null,
            "overflow_x": null,
            "overflow_y": null,
            "padding": null,
            "right": null,
            "top": null,
            "visibility": null,
            "width": null
          }
        },
        "0673e93600cb4c36a19a02a8deff6fc9": {
          "model_module": "@jupyter-widgets/controls",
          "model_module_version": "1.5.0",
          "model_name": "DescriptionStyleModel",
          "state": {
            "_model_module": "@jupyter-widgets/controls",
            "_model_module_version": "1.5.0",
            "_model_name": "DescriptionStyleModel",
            "_view_count": null,
            "_view_module": "@jupyter-widgets/base",
            "_view_module_version": "1.2.0",
            "_view_name": "StyleView",
            "description_width": ""
          }
        },
        "0e785f1945af46619061719ba27efe40": {
          "model_module": "@jupyter-widgets/base",
          "model_module_version": "1.2.0",
          "model_name": "LayoutModel",
          "state": {
            "_model_module": "@jupyter-widgets/base",
            "_model_module_version": "1.2.0",
            "_model_name": "LayoutModel",
            "_view_count": null,
            "_view_module": "@jupyter-widgets/base",
            "_view_module_version": "1.2.0",
            "_view_name": "LayoutView",
            "align_content": null,
            "align_items": null,
            "align_self": null,
            "border": null,
            "bottom": null,
            "display": null,
            "flex": null,
            "flex_flow": null,
            "grid_area": null,
            "grid_auto_columns": null,
            "grid_auto_flow": null,
            "grid_auto_rows": null,
            "grid_column": null,
            "grid_gap": null,
            "grid_row": null,
            "grid_template_areas": null,
            "grid_template_columns": null,
            "grid_template_rows": null,
            "height": null,
            "justify_content": null,
            "justify_items": null,
            "left": null,
            "margin": null,
            "max_height": null,
            "max_width": null,
            "min_height": null,
            "min_width": null,
            "object_fit": null,
            "object_position": null,
            "order": null,
            "overflow": null,
            "overflow_x": null,
            "overflow_y": null,
            "padding": null,
            "right": null,
            "top": null,
            "visibility": null,
            "width": null
          }
        },
        "12b485043fef475b8feb724b9d96ce04": {
          "model_module": "@jupyter-widgets/controls",
          "model_module_version": "1.5.0",
          "model_name": "DescriptionStyleModel",
          "state": {
            "_model_module": "@jupyter-widgets/controls",
            "_model_module_version": "1.5.0",
            "_model_name": "DescriptionStyleModel",
            "_view_count": null,
            "_view_module": "@jupyter-widgets/base",
            "_view_module_version": "1.2.0",
            "_view_name": "StyleView",
            "description_width": ""
          }
        },
        "140369c64eb040a59843745ea5db2f67": {
          "model_module": "@jupyter-widgets/controls",
          "model_module_version": "1.5.0",
          "model_name": "DescriptionStyleModel",
          "state": {
            "_model_module": "@jupyter-widgets/controls",
            "_model_module_version": "1.5.0",
            "_model_name": "DescriptionStyleModel",
            "_view_count": null,
            "_view_module": "@jupyter-widgets/base",
            "_view_module_version": "1.2.0",
            "_view_name": "StyleView",
            "description_width": ""
          }
        },
        "1a58c37cb80f482294fd68360591abc0": {
          "model_module": "@jupyter-widgets/base",
          "model_module_version": "1.2.0",
          "model_name": "LayoutModel",
          "state": {
            "_model_module": "@jupyter-widgets/base",
            "_model_module_version": "1.2.0",
            "_model_name": "LayoutModel",
            "_view_count": null,
            "_view_module": "@jupyter-widgets/base",
            "_view_module_version": "1.2.0",
            "_view_name": "LayoutView",
            "align_content": null,
            "align_items": null,
            "align_self": null,
            "border": null,
            "bottom": null,
            "display": null,
            "flex": null,
            "flex_flow": null,
            "grid_area": null,
            "grid_auto_columns": null,
            "grid_auto_flow": null,
            "grid_auto_rows": null,
            "grid_column": null,
            "grid_gap": null,
            "grid_row": null,
            "grid_template_areas": null,
            "grid_template_columns": null,
            "grid_template_rows": null,
            "height": null,
            "justify_content": null,
            "justify_items": null,
            "left": null,
            "margin": null,
            "max_height": null,
            "max_width": null,
            "min_height": null,
            "min_width": null,
            "object_fit": null,
            "object_position": null,
            "order": null,
            "overflow": null,
            "overflow_x": null,
            "overflow_y": null,
            "padding": null,
            "right": null,
            "top": null,
            "visibility": null,
            "width": "70%"
          }
        },
        "1cbd03009ef146d9aafa5079b377dca8": {
          "model_module": "@jupyter-widgets/base",
          "model_module_version": "1.2.0",
          "model_name": "LayoutModel",
          "state": {
            "_model_module": "@jupyter-widgets/base",
            "_model_module_version": "1.2.0",
            "_model_name": "LayoutModel",
            "_view_count": null,
            "_view_module": "@jupyter-widgets/base",
            "_view_module_version": "1.2.0",
            "_view_name": "LayoutView",
            "align_content": null,
            "align_items": null,
            "align_self": null,
            "border": null,
            "bottom": null,
            "display": null,
            "flex": null,
            "flex_flow": null,
            "grid_area": null,
            "grid_auto_columns": null,
            "grid_auto_flow": null,
            "grid_auto_rows": null,
            "grid_column": null,
            "grid_gap": null,
            "grid_row": null,
            "grid_template_areas": null,
            "grid_template_columns": null,
            "grid_template_rows": null,
            "height": null,
            "justify_content": null,
            "justify_items": null,
            "left": null,
            "margin": null,
            "max_height": null,
            "max_width": null,
            "min_height": null,
            "min_width": null,
            "object_fit": null,
            "object_position": null,
            "order": null,
            "overflow": null,
            "overflow_x": null,
            "overflow_y": null,
            "padding": null,
            "right": null,
            "top": null,
            "visibility": null,
            "width": null
          }
        },
        "1deec5a599624e008a660607a2063a03": {
          "model_module": "@jupyter-widgets/controls",
          "model_module_version": "1.5.0",
          "model_name": "HTMLModel",
          "state": {
            "_dom_classes": [],
            "_model_module": "@jupyter-widgets/controls",
            "_model_module_version": "1.5.0",
            "_model_name": "HTMLModel",
            "_view_count": null,
            "_view_module": "@jupyter-widgets/controls",
            "_view_module_version": "1.5.0",
            "_view_name": "HTMLView",
            "description": "",
            "description_tooltip": null,
            "layout": "IPY_MODEL_d9491bfba5f342978e2c647b16d0f44f",
            "placeholder": "​",
            "style": "IPY_MODEL_3f817e291c8342f28ffa2965f3aa5a05",
            "value": " 64/64 [01:55&lt;00:00,  1.54s/it]"
          }
        },
        "1e0475cf3c8540fa969425c93cc0a9de": {
          "model_module": "@jupyter-widgets/base",
          "model_module_version": "1.2.0",
          "model_name": "LayoutModel",
          "state": {
            "_model_module": "@jupyter-widgets/base",
            "_model_module_version": "1.2.0",
            "_model_name": "LayoutModel",
            "_view_count": null,
            "_view_module": "@jupyter-widgets/base",
            "_view_module_version": "1.2.0",
            "_view_name": "LayoutView",
            "align_content": null,
            "align_items": null,
            "align_self": null,
            "border": null,
            "bottom": null,
            "display": null,
            "flex": null,
            "flex_flow": null,
            "grid_area": null,
            "grid_auto_columns": null,
            "grid_auto_flow": null,
            "grid_auto_rows": null,
            "grid_column": null,
            "grid_gap": null,
            "grid_row": null,
            "grid_template_areas": null,
            "grid_template_columns": null,
            "grid_template_rows": null,
            "height": null,
            "justify_content": null,
            "justify_items": null,
            "left": null,
            "margin": null,
            "max_height": null,
            "max_width": null,
            "min_height": null,
            "min_width": null,
            "object_fit": null,
            "object_position": null,
            "order": null,
            "overflow": null,
            "overflow_x": null,
            "overflow_y": null,
            "padding": null,
            "right": null,
            "top": null,
            "visibility": null,
            "width": null
          }
        },
        "259a1f62108b4781b81c4f44ce378957": {
          "model_module": "@jupyter-widgets/base",
          "model_module_version": "1.2.0",
          "model_name": "LayoutModel",
          "state": {
            "_model_module": "@jupyter-widgets/base",
            "_model_module_version": "1.2.0",
            "_model_name": "LayoutModel",
            "_view_count": null,
            "_view_module": "@jupyter-widgets/base",
            "_view_module_version": "1.2.0",
            "_view_name": "LayoutView",
            "align_content": null,
            "align_items": null,
            "align_self": null,
            "border": null,
            "bottom": null,
            "display": null,
            "flex": null,
            "flex_flow": null,
            "grid_area": null,
            "grid_auto_columns": null,
            "grid_auto_flow": null,
            "grid_auto_rows": null,
            "grid_column": null,
            "grid_gap": null,
            "grid_row": null,
            "grid_template_areas": null,
            "grid_template_columns": null,
            "grid_template_rows": null,
            "height": null,
            "justify_content": null,
            "justify_items": null,
            "left": null,
            "margin": null,
            "max_height": null,
            "max_width": null,
            "min_height": null,
            "min_width": null,
            "object_fit": null,
            "object_position": null,
            "order": null,
            "overflow": null,
            "overflow_x": null,
            "overflow_y": null,
            "padding": null,
            "right": null,
            "top": null,
            "visibility": null,
            "width": null
          }
        },
        "2a28bd929c7b41d5b54f0f7676161827": {
          "model_module": "@jupyter-widgets/controls",
          "model_module_version": "1.5.0",
          "model_name": "HTMLModel",
          "state": {
            "_dom_classes": [],
            "_model_module": "@jupyter-widgets/controls",
            "_model_module_version": "1.5.0",
            "_model_name": "HTMLModel",
            "_view_count": null,
            "_view_module": "@jupyter-widgets/controls",
            "_view_module_version": "1.5.0",
            "_view_name": "HTMLView",
            "description": "",
            "description_tooltip": null,
            "layout": "IPY_MODEL_0e785f1945af46619061719ba27efe40",
            "placeholder": "​",
            "style": "IPY_MODEL_4d20fc5cdffb41639ba238821781c91a",
            "value": " 1.78G/1.78G [02:09&lt;00:00, 12.8MiB/s]"
          }
        },
        "2dbaf299fbb94723bd5dcb4fafa30b82": {
          "model_module": "@jupyter-widgets/base",
          "model_module_version": "1.2.0",
          "model_name": "LayoutModel",
          "state": {
            "_model_module": "@jupyter-widgets/base",
            "_model_module_version": "1.2.0",
            "_model_name": "LayoutModel",
            "_view_count": null,
            "_view_module": "@jupyter-widgets/base",
            "_view_module_version": "1.2.0",
            "_view_name": "LayoutView",
            "align_content": null,
            "align_items": null,
            "align_self": null,
            "border": null,
            "bottom": null,
            "display": null,
            "flex": null,
            "flex_flow": null,
            "grid_area": null,
            "grid_auto_columns": null,
            "grid_auto_flow": null,
            "grid_auto_rows": null,
            "grid_column": null,
            "grid_gap": null,
            "grid_row": null,
            "grid_template_areas": null,
            "grid_template_columns": null,
            "grid_template_rows": null,
            "height": null,
            "justify_content": null,
            "justify_items": null,
            "left": null,
            "margin": null,
            "max_height": null,
            "max_width": null,
            "min_height": null,
            "min_width": null,
            "object_fit": null,
            "object_position": null,
            "order": null,
            "overflow": null,
            "overflow_x": null,
            "overflow_y": null,
            "padding": null,
            "right": null,
            "top": null,
            "visibility": null,
            "width": null
          }
        },
        "314e4239cb3d4d3d96a1ffb742d39c71": {
          "model_module": "@jupyter-widgets/controls",
          "model_module_version": "1.5.0",
          "model_name": "ProgressStyleModel",
          "state": {
            "_model_module": "@jupyter-widgets/controls",
            "_model_module_version": "1.5.0",
            "_model_name": "ProgressStyleModel",
            "_view_count": null,
            "_view_module": "@jupyter-widgets/base",
            "_view_module_version": "1.2.0",
            "_view_name": "StyleView",
            "bar_color": null,
            "description_width": ""
          }
        },
        "32b616dfd37e40489e56335a34be18b1": {
          "model_module": "@jupyter-widgets/base",
          "model_module_version": "1.2.0",
          "model_name": "LayoutModel",
          "state": {
            "_model_module": "@jupyter-widgets/base",
            "_model_module_version": "1.2.0",
            "_model_name": "LayoutModel",
            "_view_count": null,
            "_view_module": "@jupyter-widgets/base",
            "_view_module_version": "1.2.0",
            "_view_name": "LayoutView",
            "align_content": null,
            "align_items": null,
            "align_self": null,
            "border": null,
            "bottom": null,
            "display": null,
            "flex": null,
            "flex_flow": null,
            "grid_area": null,
            "grid_auto_columns": null,
            "grid_auto_flow": null,
            "grid_auto_rows": null,
            "grid_column": null,
            "grid_gap": null,
            "grid_row": null,
            "grid_template_areas": null,
            "grid_template_columns": null,
            "grid_template_rows": null,
            "height": null,
            "justify_content": null,
            "justify_items": null,
            "left": null,
            "margin": null,
            "max_height": null,
            "max_width": null,
            "min_height": null,
            "min_width": null,
            "object_fit": null,
            "object_position": null,
            "order": null,
            "overflow": null,
            "overflow_x": null,
            "overflow_y": null,
            "padding": null,
            "right": null,
            "top": null,
            "visibility": null,
            "width": null
          }
        },
        "3f817e291c8342f28ffa2965f3aa5a05": {
          "model_module": "@jupyter-widgets/controls",
          "model_module_version": "1.5.0",
          "model_name": "DescriptionStyleModel",
          "state": {
            "_model_module": "@jupyter-widgets/controls",
            "_model_module_version": "1.5.0",
            "_model_name": "DescriptionStyleModel",
            "_view_count": null,
            "_view_module": "@jupyter-widgets/base",
            "_view_module_version": "1.2.0",
            "_view_name": "StyleView",
            "description_width": ""
          }
        },
        "42ed170f75d742c9acbde307b9042827": {
          "model_module": "@jupyter-widgets/base",
          "model_module_version": "1.2.0",
          "model_name": "LayoutModel",
          "state": {
            "_model_module": "@jupyter-widgets/base",
            "_model_module_version": "1.2.0",
            "_model_name": "LayoutModel",
            "_view_count": null,
            "_view_module": "@jupyter-widgets/base",
            "_view_module_version": "1.2.0",
            "_view_name": "LayoutView",
            "align_content": null,
            "align_items": null,
            "align_self": null,
            "border": null,
            "bottom": null,
            "display": null,
            "flex": null,
            "flex_flow": null,
            "grid_area": null,
            "grid_auto_columns": null,
            "grid_auto_flow": null,
            "grid_auto_rows": null,
            "grid_column": null,
            "grid_gap": null,
            "grid_row": null,
            "grid_template_areas": null,
            "grid_template_columns": null,
            "grid_template_rows": null,
            "height": null,
            "justify_content": null,
            "justify_items": null,
            "left": null,
            "margin": null,
            "max_height": null,
            "max_width": null,
            "min_height": null,
            "min_width": null,
            "object_fit": null,
            "object_position": null,
            "order": null,
            "overflow": null,
            "overflow_x": null,
            "overflow_y": null,
            "padding": null,
            "right": null,
            "top": null,
            "visibility": null,
            "width": null
          }
        },
        "440e74e4e23448ecbce182e1cccdb523": {
          "model_module": "@jupyter-widgets/base",
          "model_module_version": "1.2.0",
          "model_name": "LayoutModel",
          "state": {
            "_model_module": "@jupyter-widgets/base",
            "_model_module_version": "1.2.0",
            "_model_name": "LayoutModel",
            "_view_count": null,
            "_view_module": "@jupyter-widgets/base",
            "_view_module_version": "1.2.0",
            "_view_name": "LayoutView",
            "align_content": null,
            "align_items": null,
            "align_self": null,
            "border": null,
            "bottom": null,
            "display": null,
            "flex": null,
            "flex_flow": null,
            "grid_area": null,
            "grid_auto_columns": null,
            "grid_auto_flow": null,
            "grid_auto_rows": null,
            "grid_column": null,
            "grid_gap": null,
            "grid_row": null,
            "grid_template_areas": null,
            "grid_template_columns": null,
            "grid_template_rows": null,
            "height": null,
            "justify_content": null,
            "justify_items": null,
            "left": null,
            "margin": null,
            "max_height": null,
            "max_width": null,
            "min_height": null,
            "min_width": null,
            "object_fit": null,
            "object_position": null,
            "order": null,
            "overflow": null,
            "overflow_x": null,
            "overflow_y": null,
            "padding": null,
            "right": null,
            "top": null,
            "visibility": null,
            "width": null
          }
        },
        "44cf4d2bdd1241a89628f5cebeeed30e": {
          "model_module": "@jupyter-widgets/base",
          "model_module_version": "1.2.0",
          "model_name": "LayoutModel",
          "state": {
            "_model_module": "@jupyter-widgets/base",
            "_model_module_version": "1.2.0",
            "_model_name": "LayoutModel",
            "_view_count": null,
            "_view_module": "@jupyter-widgets/base",
            "_view_module_version": "1.2.0",
            "_view_name": "LayoutView",
            "align_content": null,
            "align_items": null,
            "align_self": null,
            "border": null,
            "bottom": null,
            "display": null,
            "flex": null,
            "flex_flow": null,
            "grid_area": null,
            "grid_auto_columns": null,
            "grid_auto_flow": null,
            "grid_auto_rows": null,
            "grid_column": null,
            "grid_gap": null,
            "grid_row": null,
            "grid_template_areas": null,
            "grid_template_columns": null,
            "grid_template_rows": null,
            "height": null,
            "justify_content": null,
            "justify_items": null,
            "left": null,
            "margin": null,
            "max_height": null,
            "max_width": null,
            "min_height": null,
            "min_width": null,
            "object_fit": null,
            "object_position": null,
            "order": null,
            "overflow": null,
            "overflow_x": null,
            "overflow_y": null,
            "padding": null,
            "right": null,
            "top": null,
            "visibility": null,
            "width": null
          }
        },
        "4657d877ea5248d2a583573f9c1582fe": {
          "model_module": "@jupyter-widgets/base",
          "model_module_version": "1.2.0",
          "model_name": "LayoutModel",
          "state": {
            "_model_module": "@jupyter-widgets/base",
            "_model_module_version": "1.2.0",
            "_model_name": "LayoutModel",
            "_view_count": null,
            "_view_module": "@jupyter-widgets/base",
            "_view_module_version": "1.2.0",
            "_view_name": "LayoutView",
            "align_content": null,
            "align_items": null,
            "align_self": null,
            "border": null,
            "bottom": null,
            "display": null,
            "flex": null,
            "flex_flow": null,
            "grid_area": null,
            "grid_auto_columns": null,
            "grid_auto_flow": null,
            "grid_auto_rows": null,
            "grid_column": null,
            "grid_gap": null,
            "grid_row": null,
            "grid_template_areas": null,
            "grid_template_columns": null,
            "grid_template_rows": null,
            "height": null,
            "justify_content": null,
            "justify_items": null,
            "left": null,
            "margin": null,
            "max_height": null,
            "max_width": null,
            "min_height": null,
            "min_width": null,
            "object_fit": null,
            "object_position": null,
            "order": null,
            "overflow": null,
            "overflow_x": null,
            "overflow_y": null,
            "padding": null,
            "right": null,
            "top": null,
            "visibility": null,
            "width": null
          }
        },
        "48cd6a18bcb5439c94f8c6f656ad1b02": {
          "model_module": "@jupyter-widgets/controls",
          "model_module_version": "1.5.0",
          "model_name": "HTMLModel",
          "state": {
            "_dom_classes": [],
            "_model_module": "@jupyter-widgets/controls",
            "_model_module_version": "1.5.0",
            "_model_name": "HTMLModel",
            "_view_count": null,
            "_view_module": "@jupyter-widgets/controls",
            "_view_module_version": "1.5.0",
            "_view_name": "HTMLView",
            "description": "",
            "description_tooltip": null,
            "layout": "IPY_MODEL_2dbaf299fbb94723bd5dcb4fafa30b82",
            "placeholder": "​",
            "style": "IPY_MODEL_12b485043fef475b8feb724b9d96ce04",
            "value": "<img src=\"data:image/gif;base64,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\" />"
          }
        },
        "49938f60f11e4b5bb6c10393b375f55c": {
          "model_module": "@jupyter-widgets/controls",
          "model_module_version": "1.5.0",
          "model_name": "ButtonStyleModel",
          "state": {
            "_model_module": "@jupyter-widgets/controls",
            "_model_module_version": "1.5.0",
            "_model_name": "ButtonStyleModel",
            "_view_count": null,
            "_view_module": "@jupyter-widgets/base",
            "_view_module_version": "1.2.0",
            "_view_name": "StyleView",
            "button_color": null,
            "font_weight": ""
          }
        },
        "4a68dfdcf95d4d73ade15bcd728d9bc7": {
          "model_module": "@jupyter-widgets/controls",
          "model_module_version": "1.5.0",
          "model_name": "ProgressStyleModel",
          "state": {
            "_model_module": "@jupyter-widgets/controls",
            "_model_module_version": "1.5.0",
            "_model_name": "ProgressStyleModel",
            "_view_count": null,
            "_view_module": "@jupyter-widgets/base",
            "_view_module_version": "1.2.0",
            "_view_name": "StyleView",
            "bar_color": null,
            "description_width": ""
          }
        },
        "4af896fe94804c9b84944873b81105b4": {
          "model_module": "@jupyter-widgets/controls",
          "model_module_version": "1.5.0",
          "model_name": "DescriptionStyleModel",
          "state": {
            "_model_module": "@jupyter-widgets/controls",
            "_model_module_version": "1.5.0",
            "_model_name": "DescriptionStyleModel",
            "_view_count": null,
            "_view_module": "@jupyter-widgets/base",
            "_view_module_version": "1.2.0",
            "_view_name": "StyleView",
            "description_width": ""
          }
        },
        "4beb68c5f1c74e91bf7fac8d0f7f3c38": {
          "model_module": "@jupyter-widgets/controls",
          "model_module_version": "1.5.0",
          "model_name": "HTMLModel",
          "state": {
            "_dom_classes": [],
            "_model_module": "@jupyter-widgets/controls",
            "_model_module_version": "1.5.0",
            "_model_name": "HTMLModel",
            "_view_count": null,
            "_view_module": "@jupyter-widgets/controls",
            "_view_module_version": "1.5.0",
            "_view_name": "HTMLView",
            "description": "",
            "description_tooltip": null,
            "layout": "IPY_MODEL_259a1f62108b4781b81c4f44ce378957",
            "placeholder": "​",
            "style": "IPY_MODEL_593372dc6d9f44bcb34fd6d9e043abe8",
            "value": "<img src=\"data:image/gif;base64,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\" />"
          }
        },
        "4d20fc5cdffb41639ba238821781c91a": {
          "model_module": "@jupyter-widgets/controls",
          "model_module_version": "1.5.0",
          "model_name": "DescriptionStyleModel",
          "state": {
            "_model_module": "@jupyter-widgets/controls",
            "_model_module_version": "1.5.0",
            "_model_name": "DescriptionStyleModel",
            "_view_count": null,
            "_view_module": "@jupyter-widgets/base",
            "_view_module_version": "1.2.0",
            "_view_name": "StyleView",
            "description_width": ""
          }
        },
        "5034e770ab9741cda11a6aaf0968375e": {
          "model_module": "@jupyter-widgets/controls",
          "model_module_version": "1.5.0",
          "model_name": "HBoxModel",
          "state": {
            "_dom_classes": [],
            "_model_module": "@jupyter-widgets/controls",
            "_model_module_version": "1.5.0",
            "_model_name": "HBoxModel",
            "_view_count": null,
            "_view_module": "@jupyter-widgets/controls",
            "_view_module_version": "1.5.0",
            "_view_name": "HBoxView",
            "box_style": "",
            "children": [
              "IPY_MODEL_8c35cf7a81b246719c5aa35ba3e07add",
              "IPY_MODEL_50e87c7e2ea34c10b5a9e3b10d956e31",
              "IPY_MODEL_2a28bd929c7b41d5b54f0f7676161827"
            ],
            "layout": "IPY_MODEL_78adc582ba5545eab2a5e90c7e0eb81c"
          }
        },
        "50a88ef9b9224696b94a68141e8759e7": {
          "model_module": "@jupyter-widgets/controls",
          "model_module_version": "1.5.0",
          "model_name": "HTMLModel",
          "state": {
            "_dom_classes": [],
            "_model_module": "@jupyter-widgets/controls",
            "_model_module_version": "1.5.0",
            "_model_name": "HTMLModel",
            "_view_count": null,
            "_view_module": "@jupyter-widgets/controls",
            "_view_module_version": "1.5.0",
            "_view_name": "HTMLView",
            "description": "",
            "description_tooltip": null,
            "layout": "IPY_MODEL_014e719eea5c45c4805a0ae24a60d873",
            "placeholder": "​",
            "style": "IPY_MODEL_8df6c32fe71d4c35b13aa9272f9275c7",
            "value": "100%"
          }
        },
        "50e87c7e2ea34c10b5a9e3b10d956e31": {
          "model_module": "@jupyter-widgets/controls",
          "model_module_version": "1.5.0",
          "model_name": "FloatProgressModel",
          "state": {
            "_dom_classes": [],
            "_model_module": "@jupyter-widgets/controls",
            "_model_module_version": "1.5.0",
            "_model_name": "FloatProgressModel",
            "_view_count": null,
            "_view_module": "@jupyter-widgets/controls",
            "_view_module_version": "1.5.0",
            "_view_name": "ProgressView",
            "bar_style": "success",
            "description": "",
            "description_tooltip": null,
            "layout": "IPY_MODEL_81fc7c2ebda3416485938eb845ceedc4",
            "max": 1776048343,
            "min": 0,
            "orientation": "horizontal",
            "style": "IPY_MODEL_4a68dfdcf95d4d73ade15bcd728d9bc7",
            "value": 1776048343
          }
        },
        "521059ba5cf24a4f900f5de353e7f052": {
          "model_module": "@jupyter-widgets/controls",
          "model_module_version": "1.5.0",
          "model_name": "ButtonModel",
          "state": {
            "_dom_classes": [],
            "_model_module": "@jupyter-widgets/controls",
            "_model_module_version": "1.5.0",
            "_model_name": "ButtonModel",
            "_view_count": null,
            "_view_module": "@jupyter-widgets/controls",
            "_view_module_version": "1.5.0",
            "_view_name": "ButtonView",
            "button_style": "primary",
            "description": "Generate 3D",
            "disabled": false,
            "icon": "",
            "layout": "IPY_MODEL_44cf4d2bdd1241a89628f5cebeeed30e",
            "style": "IPY_MODEL_49938f60f11e4b5bb6c10393b375f55c",
            "tooltip": ""
          }
        },
        "527d97243d054034b52731df3d706099": {
          "model_module": "@jupyter-widgets/controls",
          "model_module_version": "1.5.0",
          "model_name": "HTMLModel",
          "state": {
            "_dom_classes": [],
            "_model_module": "@jupyter-widgets/controls",
            "_model_module_version": "1.5.0",
            "_model_name": "HTMLModel",
            "_view_count": null,
            "_view_module": "@jupyter-widgets/controls",
            "_view_module_version": "1.5.0",
            "_view_name": "HTMLView",
            "description": "",
            "description_tooltip": null,
            "layout": "IPY_MODEL_7f307955aba442e19810f3638fe3461f",
            "placeholder": "​",
            "style": "IPY_MODEL_bfa465ab79b643309ce96c06ac797e0a",
            "value": " 64/64 [01:55&lt;00:00,  1.54s/it]"
          }
        },
        "559cfe02bc8d473d8393ce6fbce6f6b5": {
          "model_module": "@jupyter-widgets/controls",
          "model_module_version": "1.5.0",
          "model_name": "DescriptionStyleModel",
          "state": {
            "_model_module": "@jupyter-widgets/controls",
            "_model_module_version": "1.5.0",
            "_model_name": "DescriptionStyleModel",
            "_view_count": null,
            "_view_module": "@jupyter-widgets/base",
            "_view_module_version": "1.2.0",
            "_view_name": "StyleView",
            "description_width": ""
          }
        },
        "593372dc6d9f44bcb34fd6d9e043abe8": {
          "model_module": "@jupyter-widgets/controls",
          "model_module_version": "1.5.0",
          "model_name": "DescriptionStyleModel",
          "state": {
            "_model_module": "@jupyter-widgets/controls",
            "_model_module_version": "1.5.0",
            "_model_name": "DescriptionStyleModel",
            "_view_count": null,
            "_view_module": "@jupyter-widgets/base",
            "_view_module_version": "1.2.0",
            "_view_name": "StyleView",
            "description_width": ""
          }
        },
        "5e1cd464f12c4284a96be3fb32fc54db": {
          "model_module": "@jupyter-widgets/base",
          "model_module_version": "1.2.0",
          "model_name": "LayoutModel",
          "state": {
            "_model_module": "@jupyter-widgets/base",
            "_model_module_version": "1.2.0",
            "_model_name": "LayoutModel",
            "_view_count": null,
            "_view_module": "@jupyter-widgets/base",
            "_view_module_version": "1.2.0",
            "_view_name": "LayoutView",
            "align_content": null,
            "align_items": null,
            "align_self": null,
            "border": null,
            "bottom": null,
            "display": null,
            "flex": null,
            "flex_flow": null,
            "grid_area": null,
            "grid_auto_columns": null,
            "grid_auto_flow": null,
            "grid_auto_rows": null,
            "grid_column": null,
            "grid_gap": null,
            "grid_row": null,
            "grid_template_areas": null,
            "grid_template_columns": null,
            "grid_template_rows": null,
            "height": null,
            "justify_content": null,
            "justify_items": null,
            "left": null,
            "margin": null,
            "max_height": null,
            "max_width": null,
            "min_height": null,
            "min_width": null,
            "object_fit": null,
            "object_position": null,
            "order": null,
            "overflow": null,
            "overflow_x": null,
            "overflow_y": null,
            "padding": null,
            "right": null,
            "top": null,
            "visibility": null,
            "width": null
          }
        },
        "6bb618796cd6461cb8a9fdbb405c59b8": {
          "model_module": "@jupyter-widgets/controls",
          "model_module_version": "1.5.0",
          "model_name": "DescriptionStyleModel",
          "state": {
            "_model_module": "@jupyter-widgets/controls",
            "_model_module_version": "1.5.0",
            "_model_name": "DescriptionStyleModel",
            "_view_count": null,
            "_view_module": "@jupyter-widgets/base",
            "_view_module_version": "1.2.0",
            "_view_name": "StyleView",
            "description_width": ""
          }
        },
        "6bb97c3c81854be4904d958e39cfcc09": {
          "model_module": "@jupyter-widgets/controls",
          "model_module_version": "1.5.0",
          "model_name": "DescriptionStyleModel",
          "state": {
            "_model_module": "@jupyter-widgets/controls",
            "_model_module_version": "1.5.0",
            "_model_name": "DescriptionStyleModel",
            "_view_count": null,
            "_view_module": "@jupyter-widgets/base",
            "_view_module_version": "1.2.0",
            "_view_name": "StyleView",
            "description_width": ""
          }
        },
        "6e9236fe656b45069005fa3e3c18444b": {
          "model_module": "@jupyter-widgets/controls",
          "model_module_version": "1.5.0",
          "model_name": "HBoxModel",
          "state": {
            "_dom_classes": [],
            "_model_module": "@jupyter-widgets/controls",
            "_model_module_version": "1.5.0",
            "_model_name": "HBoxModel",
            "_view_count": null,
            "_view_module": "@jupyter-widgets/controls",
            "_view_module_version": "1.5.0",
            "_view_name": "HBoxView",
            "box_style": "",
            "children": [
              "IPY_MODEL_50a88ef9b9224696b94a68141e8759e7",
              "IPY_MODEL_b485b2297b6d445a99611dc8abb8915a",
              "IPY_MODEL_c25e7fd44a434249ad73ba90b9bdb62b"
            ],
            "layout": "IPY_MODEL_440e74e4e23448ecbce182e1cccdb523"
          }
        },
        "72bdcf04ca0540558829ee0b931f829c": {
          "model_module": "@jupyter-widgets/base",
          "model_module_version": "1.2.0",
          "model_name": "LayoutModel",
          "state": {
            "_model_module": "@jupyter-widgets/base",
            "_model_module_version": "1.2.0",
            "_model_name": "LayoutModel",
            "_view_count": null,
            "_view_module": "@jupyter-widgets/base",
            "_view_module_version": "1.2.0",
            "_view_name": "LayoutView",
            "align_content": null,
            "align_items": null,
            "align_self": null,
            "border": null,
            "bottom": null,
            "display": null,
            "flex": null,
            "flex_flow": null,
            "grid_area": null,
            "grid_auto_columns": null,
            "grid_auto_flow": null,
            "grid_auto_rows": null,
            "grid_column": null,
            "grid_gap": null,
            "grid_row": null,
            "grid_template_areas": null,
            "grid_template_columns": null,
            "grid_template_rows": null,
            "height": null,
            "justify_content": null,
            "justify_items": null,
            "left": null,
            "margin": null,
            "max_height": null,
            "max_width": null,
            "min_height": null,
            "min_width": null,
            "object_fit": null,
            "object_position": null,
            "order": null,
            "overflow": null,
            "overflow_x": null,
            "overflow_y": null,
            "padding": null,
            "right": null,
            "top": null,
            "visibility": null,
            "width": null
          }
        },
        "741b9f90895a4a82b11219afe9b77450": {
          "model_module": "@jupyter-widgets/base",
          "model_module_version": "1.2.0",
          "model_name": "LayoutModel",
          "state": {
            "_model_module": "@jupyter-widgets/base",
            "_model_module_version": "1.2.0",
            "_model_name": "LayoutModel",
            "_view_count": null,
            "_view_module": "@jupyter-widgets/base",
            "_view_module_version": "1.2.0",
            "_view_name": "LayoutView",
            "align_content": null,
            "align_items": null,
            "align_self": null,
            "border": null,
            "bottom": null,
            "display": null,
            "flex": null,
            "flex_flow": null,
            "grid_area": null,
            "grid_auto_columns": null,
            "grid_auto_flow": null,
            "grid_auto_rows": null,
            "grid_column": null,
            "grid_gap": null,
            "grid_row": null,
            "grid_template_areas": null,
            "grid_template_columns": null,
            "grid_template_rows": null,
            "height": null,
            "justify_content": null,
            "justify_items": null,
            "left": null,
            "margin": null,
            "max_height": null,
            "max_width": null,
            "min_height": null,
            "min_width": null,
            "object_fit": null,
            "object_position": null,
            "order": null,
            "overflow": null,
            "overflow_x": null,
            "overflow_y": null,
            "padding": null,
            "right": null,
            "top": null,
            "visibility": null,
            "width": null
          }
        },
        "7569db9cdfd84d54899c6aadd23be146": {
          "model_module": "@jupyter-widgets/controls",
          "model_module_version": "1.5.0",
          "model_name": "HTMLModel",
          "state": {
            "_dom_classes": [],
            "_model_module": "@jupyter-widgets/controls",
            "_model_module_version": "1.5.0",
            "_model_name": "HTMLModel",
            "_view_count": null,
            "_view_module": "@jupyter-widgets/controls",
            "_view_module_version": "1.5.0",
            "_view_name": "HTMLView",
            "description": "",
            "description_tooltip": null,
            "layout": "IPY_MODEL_94a35edbc58f473c9a284ed7e1a4fe95",
            "placeholder": "​",
            "style": "IPY_MODEL_f327e81825c045918f27ead3f70fd720",
            "value": "<img src=\"data:image/gif;base64,R0lGODlhQABAAIcAAPv7+/r6+vn6+vn5+vj4+ff4+ff4+Pf3+PX29/b19PT19vP19fP09fL09PLz9PLz8/Hz9PLy8/Hy8/Hy8vPx8fDy8vDx8u/x8e/w8e/w8O7w8e7v8O3v8O3u7+zu7uvt7uvt7evs7ers7err7Onr6+jr7Ozp5Ojq6ujp6ufp6ufo6efo6Obo6ebn6Obn5+Xn6OXn5+Xm5+Xm5uXl5uTl5+Tl5uPl5uPk5ePk5OLk5eLj5OHj5ODj4+Hi4+Hi4uDi4uHh4t/g4d/g4N7g4N/f4N7f4N7f393g4d3e393e3tze3tve393d3tzd39zd3tzd3dvd3dzc3tvc3drb3drb3Nra29nb3Nnb29na29na2tja2tnZ2tjZ29jZ2tfZ2tjZ2djY2dfY2dfY2NbY2dfX2dbX2dbX2NbX19XX19bW2NbW19XW19XW1tXV1tTW1tTV1tTW1dTU1dPU1dPU1NLU1OrcoNLU0+rUeNPT1dPT1NPT09LT09LS1NLS09LS0tHT09HS09HS0tDS0dHR0dDR0tDR0dDQ0M/Q0M/P0M7P0M7Pz83Pz87Oz83Ozs3Ozc3NzszNzczNzMzMzMvNzMvMzcvMzMrLy8rLysrKysnKysjJycfJyMjIx8fIx8fHx8bIx8bGxsXFxMTGxcTEw8PEwsLCwcDAv97Ogc/DbsnIvOHFQde8Qb6/vbu9vL29ubC8kdjFOt/AJtu+M9m8Md6/DeW+ALq6ube5uLe4tre3tbW3tMq0VNe7KNC2Jrq4PcOtMdq6Jde7I9u6Gdu5FNq4ANCxANKvALiiHrS2tLS1tbO1tLKzsbGyr6+xsbCwrq6wr6qrqqiop6GioJ2gn52enJydm5ehEaedAIWfd5iamImcmJWMIJCDLHKRjWSHRlSGQVB9TEt5T0xvKVZlKTF1ETFkKyJPEBJLKjo1ChI1BQsyBSAdBggoBgUlAgYgARAPAwMSAAIOAAQIAwMGAAAEAAIDAQACAAABAAAAAAAAAAAAAAAAAAAAAAAAAAAAAAAAACH/C05FVFNDQVBFMi4wAwEAAAAh+QQACgAAACwAAAAAQABAAAAI/wDxCRxIsKDBgwgTKlzIsKHDhxAjSpxIsaLFixgzatzIsaPHjyBDihxJsqTJkyhTqqx4zyC9lSxhypxJ0xXCVDQPlvIlEF48gdYY5TSYLtW1YsSIGbt2StzQgulAoSpmzBgxWIOcPh1oLlQlRrVq9fFjyNvWgdg6RVJkqE+ePYVetdx6L1emR4cG5YmTJ5CndmfTsbrk6FCgOXHm+KEE7qw2UpcgKRo0Z46ePYmqbQ3HDBSmSo0O7Xm7h5CpxjnbUbPlyZLkQnsT88nkzB3NedmklfJUSREhPGvSqGmDh1EubfVkzjtXjRmpTpIO9XlDJgyZM28AjYrGzt5Kc9+0Vf9zBUoTJEN71Hzp8kXMGjmInHUDpy7lPHLkplUbpclSo0JzmNFFFlu0p8Yby1TTTTk/ndQSNNBIwwlohdDhRhhYUEFFFVuEYQYuz0RzzjwqNcMMNGsRMscaZXAxRRRRSEFFFmCwosszMiWDjGFzsGEGF1Y0gQQSTDyxoSi3zJTMLRaiEUYXVkiBRBFFCIGEE09o0spMyrAyBxpiZPiEE0QAYaYQRjCxSJIyySOKHWN8QYUTRQTRAw54+iDEE4FkQ9MmgnyhhRRFAKFDDTHIMAMOPjxBB031fLJHFlYoYecNMbigKQ49JDFHTpPMcQUUQ/xwQw0tqLCCCzXoYEQWOf3h4YUSR/CQQwwtoEACCirAUMMOQeQ0xhE72MBCCiSUIMIHIoxwggov2JDTEjS0kIIIHnDAgQYWbNABCCSQwEKsupLgQQYVQNCAAxVk4MG3Lwx1ggchbHDBBA6sO0G3F3jwFBwYWGDBAwsogAACDOQrwQlPBTMBAwcYQMAAAghAQAELRMDLU8MMc4cJCQQAwMgGUHAHMMIMdQwttAyjSh0E1aFKLLEM00tOv/ASDC+r7ELQKqvIIsssvwy1zjzovHMMOgJts/Q6+LxzlkDcjEN10VNnrfXWXHft9ddghy22RwEBACH5BAEKAPsALBQADgAYACkAh/v7+/r6+/n6+vn5+fj4+fb39/T29vP09fL09PLz9PLz8/Py8/Hz9PHy8/Hy8vDy8vDx8vDx8e/x8e7w8O7v8O3v7+3u7+zu7uzt7uvt7uvt7ers7ers7Orr7Onr7Onr6+jq6ujp6ufo6ebo6ebo6Obn6OXn5+bm5+Xm5+Tm5+Xl5uTl5+Tl5uTl5ePl5ePj5OLk5OHj5OLj4+Hj4+Hi4+Di4+Hh4uDh4uDh4eDg4e7kxN/h4t/h4d/g4d7f4N3f4N3f397e393e4N3e3t3d3tze3tzd3tvd3dvc3tvc3dvc3Nrc3dvb3Nrb3drb29nb29na3Nna29na2tja2tfa2tjZ2tjZ2dfZ2djY2dfY2tfY2dfY2NbY2NfX2NbX2NbX19XX19bW19XW2NXW19XW1tXV19XV1tTW1dTV1tTV1dTU1dPU1dPU1NLU1NPT1dPT1NPT09LT1NLT09LS09HT09HS09HS0tDS0tLR0tDR0tDR0dDQ0dTRxs/R0M/Q0M/Qz8/Pz87P0c7Pz87Pzs7Oz83Pzs3Ozs3Ozc3NzczNzczNzMvMzMvMy8rMzMvLy8rLy8rLysnLysrKysnKysnKycjJycnIx8bIx8bHxsbGxcXGxcXFxcjHw8TExMPFxMTDwcLCwcDAvr6/vb2+vby9u7u7ubi6t7i5uLi5t8C9stjBYLa4td7DR9u/Q9+/M9y+M9/AKdy+I9m9Nte6Jdm8IOPBBd2+A9q4Fdq4ANe6Ec66G7a3tbW2trS2s7O0srOzsbGzsbCysa+xsK6wrq6vrq6vrc21PLShNNW0AMyuAbmnAK2vra2up6utrKutq6ysqaSrqqmqqKeppqanpZ6joaChn56fnp2enJydm5qbmZmqiYabiqSgIZeamJ6VaoSSi6WVOpaRAGqTWFyLc1SALIBzGjJoGhlKIQ9KABJGJw5BDDUxEgw0BB4cEQMeAAQaAQQXAQMSAAYRAA8OBgIMAAMGAAMEAAAEAAACAAABAAAAAAAAAAAAAAAAAAAAAAAAAAj/APcJHChQH8GCBxMqTGhw4cJ4DiMOzCdOokOD90qxI9jQoj6Doj6Fq7dPn7xy4eRJ/KiPmSVdyJQpS4ar5sqP2jJxymXLVq2ayW7mY9bpkSFAePjMqXjz3SpMiwT5mfMGDqGb+syRqpQIkB42at7oEbotFKVEgr6qYWMHXsSP6JiBmqQo7T42cuSsuqgP37ZfnSYxOvRnDhs2bwK9U8jy27RVmwQb2uPGjBk0dagx/HguWzRSmiQh8hOnTJcuYdYsYre4oD5697plexZKEyRDedZ4wYJli5k448SpK/kxnbpr2Hx9wgRpkJ01WqpUseLFTDp47Fi6I9fNmrVSmSpF/62DRkuU81WwQGO5L585cdisVQNVyZHzNWOqNEmixImUdh8JdA8600hTzTSdKDLIHWuIkQUURhBhRBJMdLRPM8IME40zxUDixx1sjGFeEkL44MMQRCQUjC/L9GKKIHLgp8UUTSDhAw439BCEirz8gooodpABxhVRJGFEEDS88AIOaSTUDC+njOKJHF9wIQWJPdjQggosyNBkQsCQ4kkkbXBxhRND5CCDCyecgMIMYDBEzCiXFHLGFFMcAcQNMKxAQgko0GCEQsLsckkfXzyxBBA7xMBCCSGIYIILNShUDCqN0HHFEkU0msIIIGzgAQgipKDQMqi0cYURPMTwqQceVMBQgQUacNCNpbtQ8QMNLIzQQQYTTMCAAxNckMFC0aDygwsoiMBBBRI0gEACDkQAwQUOrQIDCB18gAEFEDBwwAEKNPBARL4A8YEF30KAgAEFEFCAAbRENI4LHECgAAIFDDCAAAEs4Mot9S60TioOJGDAAAEI5I0OrMASCy3cMKbPLbfA0ooOA+mjSiuvyGLMOhbzVEssrIBTkD3HAKjPPAvpMwsts7xiDDjrfHRMOeVYqNA6xtTzkcoBWjQQzEYLFBAAIfkEAQoA+wAsFgAQABgAKACH+vr6+fr6+fn69/f49Pb29PX18vT08vP08fP08/Ly8fLz8PLz8PHy8PHx7/Hy7/Dw7e/v7e7v7O3u6+3t6uzt7evr6evs6evr6erq6Orr5+nq5+np5+jp5ujp5ufo5ebn5eXn4+Xm4+Xl4+Tl4uTk4uPk5+PW4eLj4eHi4OLj4OHi4ODh3uDg39/g3t/f3d/g3d7f3N7e3d3e3N3e293d29zd29zc2tzd2tzc2tvc2dva2drc2drb2Nra2Nnb2Nna2NnZ19nZ2NjZ19ja19jZ19jY1tjY1djY19fY1tfY1tfX1dfX1tbY1dbX1dbW1dXX1NbW1NXW1NTU09TV09TU09PV09PU0tTU0tTT0tPU0tPT0dPS0tLU0dLT0dHS0NLS0dHR0NHR0NDQz9HRz9DQzs/Pzc/Ozc7OzM7Nzc3NzM3Ny87NzMzNy83My8zMy8zLy8vLycvMycvKycrKycrJyMnIx8nI2tKs4MplyMjIyMjHx8jHx8fGxsjGxsfGxMXExMTDw8PCw8PBwsPCwsLBwcHAwMHBwMG/wMC/v8C/v7++u7y6u7u5uru6u7u3t7m4t7m3t7i1uLe1tre3tbe1tba0tLa0tLW0tLWzs7W0tbSys7S0s7SysrSysrOzy8Wlw7eUs7WltLSxs7OwsbOxsLKw1cVu28Ve2b073sAv2r8x0rg7zrQs3b8r27wl3b0U3L0M4sAA3L4F3rwB2rgD17ka2boL1rcC07kG0rYC1LIAw7UPsLGvr6+qrrCura+vra6srK2rrKyrrKyqq6yrqqysqqurqquqqKmnp6elp6eksJ9CtJ8tqpkxpK2gpaako6SioKGgnqCenp+dnZ+dnJ2bm5ybm5yamJmXjZiUh5cAXo9vZHsAeGkQQ3YuJmUeXV4MTk5OIlIoS0MQOzk3LSseLCgJEkURGD8IDD0GEDYABCEABBoBAxkADxgMBREIDAwMAQoACgkFBQYCAAcAAgIAAAIAAgEAAQEBAAEAAAAAAAAAAAAAAAAAAAAAAAAACP8A9wkcKFCfwHgEEyokqM/gPmfoFkoc2FBfPEmOIiZUx23ivoqOBH3apU0dO3C7btGiBU5iw3yh+HzChStXrlmxZt3SNculPnqhANH5dOrNnW7zPH5suG5UoDlnxHCxorRgQ3SM/MApE8YKFXxVG9rzpiiPmzJepEgJp7TiOmeK6pwFQ4VKl7YNv/VCJDfqPipUJ1Zst21UoTpw0pCp8iSKMcENtykTRajOG7RPkDDhIm5hxXTXkGkalIcNmSxMhBCJ4s0eQ332fmK7pkxSoDxqxFBB8gNIEncOrbKLF+7atWSL/tRRE4ZKER48fpQLXvHduWzVqg1DxAdqlyhEctT/yCGP4uBs0KhN4wVoDvMpSXzMkEHjdd5o06RFq6RHDZkrTQyxAwwtwGBfPukgA80zyTDyBhlaQEEEDzWscIILCTU0jy/BBFMKJ4f8JyGFMJQwgkL6GEPKJryQAskie1DhhBEUurACCB+gWMwmk1xSSSOGwAGFEkHY4AIKI3igwkLZZPLIi4bYYcaMPcywQgkgcPDLQtt4UgkkifiBBhZB9HDDCyeE0MEGcSyEzS+lWDIIHWM4oQMOL6ggggcUXADPQtYA0wknicixhRE4xJBCCBrsA4EEwREUDTGdUPLHGEvgwAIJHVgQwQINQBDpQNAcwwsmchxxgwqMSuAAAgcwqDAqRcKUQsoaL5TwgQYTPKDAAQYcMOtAwnCCyRchcIDBBRE0YAABA4zjETaYRIJFBxRMIEEDBQwQQCuv1FKPS6T00UYGECywwAACAHBHKq2osopLw5ixgQYOFNCuPqbggQoq9+hjjkSmgFJBAgmYQE5B5jAD3LAFuWKLLa+kcopV3TDzkWDd2CILLK6ssow5FYWlDyuuoMLKPvI0UxVD+4zT0ssegfVyQAAh+QQBCgD9ACwYAA4AGgAqAIf5+vr5+fr19vbz9PXz9PTy9PTy8/Lw8vLw8fHv8PHu7+/t7/Dt7u7s7u/s7e7r7e3p6+zp6+vo6urn6erm6Onm6Ojm5+jl5+jl5ufk5eXi5eXh4+Xj4+Th4+Pt48Pg4+Li4uPg4uPg4OHf4OHe3+Dd3t7c3t/c3t7d3d/b3d7b3d3b3N3a29za29vZ29vZ2tvZ2trX2tnY2drY2dnX2dnX2djX2NrX2NjW2djX19jW19jW19fV19fV1tfV1tbV1dfU1tPU1dXT1dXU1NXT1NXT1NTS1NTT09TS09TS09PR0tLQ0tLR0dLQ0dLQ0dHP0dHP0c/Q0NDP0NHP0NDPz8/O0M/Nzs7Mzs3Lzs3Mzc3MzczLzc3LzMzKy8rJysnJycnJycjIycnIycjHycjHyMjGyMfHx8fHx8bGx8bFx8bHxsTFxsXFxcTDw8LCw8HBwsHBwcDBwb/AwsHAwcC/wL/KxrvAwL6/v76+vr3WyZDcv0PcvzDYvjDfvyncvhvawg3kwADdvga9vbm7vLq7u7e6uri5uri4uri4ubi5ubS3ube4uLe2uLa3t7W1t7a1trW0trSztrC0tbS0tbOztbSztLOztLK0s7Czs7Gzs7Cys7Kys7Gxs7KwsrCwsa+vsK+xsK6usK6ur66trq2urqqts6fUu03QtDyosJ+rrKurrKqqq6mpqqioqqnSuDbQtjDXuSDauhPUvRPYuAHZtgDSugvStwLPszTJsCe/qzfPswHTsgDQrQCoqKamp6SmpqWlpqWlpqSlpaOjpaOjpKKioqGgoqChoaCfo52pmjW/qS+nljO7pACrmCmtkACdnp2dnpycnpycnZubnZubnJqYmZeFnnuBj46QngqVi0yShSRchABOgj91ZQxkWiMrYC5USg9COxUeWQwWSCsPRQoMPAgzMzMwKQAOKQEeGwYMIwAJKAEGIAACGwANFQEDEwACDgAMCwgBCwAKCgcKCQIBCAAABQADAwMAAgABAQEBAQAAAQAAAAAAAAAAAAAAAAAI/wD7CRxIcCC+gggTJtynsCFBfgLXoXNIkR+/ep5KvUOIjpkzhxb5sWt0Rw22bevgqWOma9csWrwaWoQniE2eWrVs6ZoFqJszWrvAKQzJjtCZOrL+uEt3ziLFfiHFJVrDhcoRiE8HhuQmCE2WKEOyPuSHzxqcMFmchBUL1WI7VG++pC0yj23USHDkTimCxC4/e9wu5a1K5IfYkOWQXYojhouUHzkOW7zWK5MdMlma9JiBFaRFctJ8gbJjJguTHjDidS4IMaS9atCIgYpTWkkPFvdk8tsnb984aqqKYWojxkoSHStWs75Y7t21Z9KELVrTZUoQGyiUj7X4DZqxaMIKgf8xruMFCc8WuRlr9awXHi1PrrMAoTuqsWHBQrmZYgRHCxMZ1GcRK6yEsokhXhSB2gkiCMiPOaF40sggb1TBww0rjMCBg5JoUskhdKSxxA4ylAACBgJSgogjiNxRxhVC0MDCCBlop1VIjxyCCB5sbJEEDS6Q0MEFNgoUUiucOLLIHGNM4YMLKYRAQQNFtsXPKJ9oQgkdXixRgwodULCAOZ5NMwonkEwih4UndCBBAgVUCdU1xaTSCSSMjMFDChxUoIABBDz1DDCriLIJJFiYsIEFESQwgJwCPfNLKp5sYskTGkwQQQMEAODHKxURM8omjzCCwwQPOFBAAHvssQw4+jhldEwqkyhiSAwQHLBqHnrc4hRI1UwChREfLCBAPvzQo00zykAFEimeAMEAAgZ4YCQ/2oiVjSm36NFHLHuY0k86vz7FTzh8xBJIIH6ckkwy9LDVFi6xwOIKpLp1k4s38crLmr/9BAQAIfkEAQoA9wAsGQAOABsAKQCH+fn68fPz8fLy8PLy7/Hy7vDx7O3u6+zt6+zs6uzs6evr6Onq5+np5+jp5ujp5Obm4+Tl4uTk4eTk4ePk4eLj4OLj4OHi3+Li3uDg3t/g3d/f3N3e293e29zd2tzc2dvb2Nvb2drb2Nra19jZ1tjY1tfX1dfX1dfW1dbX1NXX1NXV09XV09XU1NTV09TV09TU0tTU0dTT0dPT0dPSz9LQ0NHRz9DQztDPztDOzs/Pzc/Ozs7Pzs7Ozc7Ozc3NzM3NzM3My83MzMzMy8zMysvLycvKycnJyMnIyMjIx8jIxsjHxsfHxsbFxsbExcbFxMbFx8XAxcXExMXExMXDw8TDw8PCwsPCwsLBwMLBv8HAwcC+v8C/vsC+v7+9vb69vL68vb28vL29vLy6uru5ubu538qCy8Wuu7u4uruy48tg3Mdo2r8n378M3L4F3L0K3bsZ4b8B3b4B4LwA3bwA2rwh2bsd27sYz7oT1r0L27oA07oHurm2urm1ubm0uLm4uLi2uLi1t7m3t7m2t7i3tri2tri1tre3tbe1tra0tba0tLa0tLWzvrmrtbiktbSytLSy0LRAwKxB1Lky0LYnxa4mwas/1rkg1bgC07gC27gA2rcA2LMA0rYCtqAAs7Szs7SysrSysrOxsbOxsrKwr6+sqrSYpq+ira6sra2po62grKypq6yqrKymqaqopqimp6elo6Sio6OhoqOhoaKgmaqTjKSDn6Cfn6Cenp6cnZ6dnJ2bm5ybm5yampyYmpuZo5hip5g4q5spppYwoY4vmJmXhZqLiouKjYh5gZSOcImIU4g8gIYAT3oyTX8EMGYbLmIAWFdVYVkXW1ASIGAdS0UdFkAAFEcAFDsCEjgGDTkUDDYBBjMBMC0MDTACIh4MHhwFCS8FAiEABRkABBkBEBAQCwoFAQoAAQkAAQcAAAcABAQEBQQBBAQBAAQAAwMDAwMAAwIBAQMAAAIAAQEBAQEAAAEAAAAAAAAAAAAAAAAAAAAAAAAAAAAAAAAAAAAAAAAACP8A7wkcSFCgvXv1CipcqPCguIXyGC60Z69bqmsF63XSlGkTPYn3KNqjtQdNs2fWqi3jFGdOHjkgQ1IspQXKHT2YLsEReTCmyEZNzOB5x1NkTJno+jjxYfRoQYrY+DDh4ZQhRWddjuyYV/UpRWVXjvTo6jVdLTBIfLgjO5DiNlNikvxAwVamvWmsziwBkqKuyGKoAEX50cKvvXC4VDmqMsQFW5HIcL0axfhFT6ci2/nSFWvUlB8qLksUKe9cvWy7eMl6xCQH3aMizYEbl+yWLliIjNQY0ZVnr1m5YP0RAiNEb5HMbM1qJcYGig3HKWpztWqRlRUiLES3F09UIC5ATHTQgFC16KlBXqTYIJFhLWaen8hQGcIiBIXyPOf5yUJEhggNDuAnkjFhPHFDCR5EIKBIg2xxxAwiXFDAghR54kURJ2CggGijFTWPIljEwMEDA7xX1CGEKAHCBAsYYiJPoCgSRAUNGDAMPLAVZU8on+jAwAEAUPSiPeQkUsgHBxAACU8+8USMIGNIEAA330QTzIJf0DBDAnZx2KE96uCAgABpqHEPNeX0dgw0pDBSxhts0FEJMMKs09svkaxhhxtt1CGNl+9RMoklknjzUV12scNWQAAh+QQBCgCLACwYAA4AHAApAIfk5ufb3t7b3d3a3NzW2NfW19fU1dXR09LQ0dHP0NDPz87Nzs7LzMzLzMvKy8rJy8rJysnIycnIycjHyMfHx8fFxsXExcPFxMLExMPBw8HCwsDBwb++v728vbu7u7m7u7i7u7fLxajavy/avCLZuwPevgG6ure5uba2trO0tbO0tLG0tLC3tq+6rn6/rVPSuTHVuCfWuB3Rug/XuQ3VugTatgDSsQDRsADIrQG9owSzs7Czsq+wsa+xsKywsK6vsK2wr6uvr62srKmmp6SkpaOgoZ6foJ6eoJ6SqG+zowCcnpydnZmcnZubnJqam5mVl5SUlpWVhDKfhQCRlZNsknRpinJ3gABjggBcgX5WgWFZgk1SfQBJfAQraiUjXQxbW1siTRgXTg0ZQgURRBcNQgURPSc7OClBOxgxMC42MAc5LwAKNwAMKwAJJgAmIAAjHQAWFAcEJAECGAADFgAVEwUODg4CDwACDgACDQAODAMDCAABBwAEBQUEBAQFBAABBAAABAADAwMEAwADAwACAgICAgABAQAAAwAAAgAAAQAAAAAAAAAAAAAAAAAAAAAAAAAAAAAAAAAAAAAAAAAAAAAAAAAAAAAAAAAAAAAAAAAAAAAAAAAAAAAAAAAAAAAAAAAAAAAAAAAAAAAAAAAAAAAAAAAAAAAAAAAAAAAAAAAAAAAAAAAAAAAAAAAAAAAAAAAAAAAAAAAAAAAAAAAAAAAAAAAAAAAAAAAAAAAAAAAAAAAAAAAAAAAAAAAAAAAAAAAAAAAAAAAAAAAAAAAAAAAAAAAAAAAAAAAAAAAAAAAAAAAAAAAAAAAAAAAAAAAAAAAAAAAAAAAAAAAAAAAAAAAAAAAAAAAAAAAAAAAAAAAAAAAAAAAAAAAAAAAAAAAAAAAAAAAAAAAAAAAAAAAAAAAAAAAAAAAAAAAAAAAAAAAAAAAAAAAAAAAAAAAAAAAAAAAAAAAAAAAAAAAAAAAAAAAAAAAAAAAAAAAAAAAAAAAAAAAAAAAAAAAAAAAAAAAAAAAI/wAXCRxIsKCiRYgKWpGiplDBhwbBaCGoB4eNGzUgalR0aAUILluuJCnhRpHJgxoNtvlwQQYNEm9Omkz5UJEYDSFk0qSpCAmGmTt5KmJhIWhQkyYoGN2pCNCJCX2WplQkR0UFQlIhmiSz42fWmoq69NiQ4KtBRVSAeGBglqDJJUJQRGgr0GSiJkN0TKC7yGQcJ0WC7G2rKJEiLE6M/JDw9eShO3umNDESBEJju2PKMFFixEcDuicRHSGSAgHok154cChw2iSiDhIGtDaZYQFKszIVPTBw+/LJAwFmmyTQO2tuRQL4Hgcg9dBZmXyk4nF7POsc6rmXJloUps7A40B3/kmxkwXK9+x5jAJaU+V8dqNsHCh4Eqgu+OI7v9gPvwgO7uyKGOKHcWjkNkgOMfBnlCJmtODCCyKMMAMMUZxhCGEmCZIGHXx991VAACH5BAEKAIUALBAADQAjACkAh9HS0s7PzcrKyMTFxMPEw8HBwMDAv8DAvb/Avr+/vbi6trq5t7i3tbi3s7W1sbO1s7KzsbSxrLGwrbCxsLCwrbO4nrmwiLywf7Gvq6+vq66uq83Cb9O6Ntu8McWuMtq8H9q7Ida5HNu8ANO7Cdq3ANq2ANW2AsqxAa2trK6tqaysqqurqKqqqKqqp6mqqamqqKipp6anpqWmpaWlpaSlpKOko6OjoaKjoqGioKChoJ6fn56fnpydnJydm5ucm72rVJucmpucmbmlMMGjALalAJqbmpiamJeZmJWXlZSWlZKWlJSVk5GUk46Uko6UkY6Tkn+RjnaKhnKKhWKMfWCLR5GaAIeIhkx3Sjl1FjNtATlrUlVVVSdiMB1ZFhtXKxpVFBdUDxJMEhRLARNIGgxABAkyAQwtBCcnJygkBhMnAAgqBwYkAwQiAAggAQQeAAMaABkZGQMTABISEg8QEAISAAELAAgICAUIAwIKAAcGAAEGAAAGAAQEBAEFAAAEAAADAAMCAAICAgACAAABAAAAAAAAAAAAAAAAAAAAAAAAAAAAAAAAAAAAAAAAAAAAAAAAAAAAAAAAAAAAAAAAAAAAAAAAAAAAAAAAAAAAAAAAAAAAAAAAAAAAAAAAAAAAAAAAAAAAAAAAAAAAAAAAAAAAAAAAAAAAAAAAAAAAAAAAAAAAAAAAAAAAAAAAAAAAAAAAAAAAAAAAAAAAAAAAAAAAAAAAAAAAAAAAAAAAAAAAAAAAAAAAAAAAAAAAAAAAAAAAAAAAAAAAAAAAAAAAAAAAAAAAAAAAAAAAAAAAAAAAAAAAAAAAAAAAAAAAAAAAAAAAAAAAAAAAAAAAAAAAAAAAAAAAAAAAAAAAAAAAAAAAAAAAAAAAAAAAAAAAAAAAAAAAAAAAAAAAAAAAAAAAAAAAAAAAAAAAAAAAAAAAAAAAAAAAAAAAAAAAAAAAAAAAAAAAAAAAAAAAAAAAAAAAAAAAAAAAAAAAAAAAAAAAAAAAAAAAAAAAAAAAAAAAAAAAAAAAAAj/AAsJHEiwoEGCfwamIVHioMOHBK8MEkhExBBCGCFqHNimQZYqJwphHLlRIyEqB0aYGEmoZElCFTawdOmSEIKWNHMSKpCzp58BPXPSIRC0JpsEOItCJERmQVKlDgmBcTAH6tIuEgxYfUjoywoGW6NOsUEhrEGMWnqoMFsQo5QeLOywFVnIz58mQGCcYTtyjRorPF5s4cuS0B4IcuYKZGlG8cCZjkWSjCyZ8uKnjjNaxgxV0EHOSut8tpo0jJcxbUkLfANFCRI+c1sOKvMEyREfZltiHMSFye0ccMLuJhQnSpIiOWa4eKwUo54+YpwY4XEjBoqtI/+4wbIEyI4aMiaYPh0UQICGHjp2GCnyAMDionjuDAzUQgaNIDgUdMij+eFEk4VEgEEGKXDwAQgheJAbIRZc8IMQaAAyWWz9QRQQACH5BAEKAHUALBAADAAgACkAhsrMysPDwby8ubu7urq6t7m6uLe4trS2r7i1rrS1s7GzsrGzsbGysLCysK6wrq6vrtbKqLuznLayqLGxrcmxOK+vra2urK2tqqytqtq/L9q9HNy9Edm6Cd+/AN29B9q3AKqqqqmpp6ippqenpaenpKanpqWmpKWlpKSlpKSkoqOko6GjoaGioKChoKCgoJ+gn56fnp2enZyenJydnJydm5udm5ucm5qbmpmbmpycmZucmZeZl7upVMGqJMmoAJeYl5WXlZaWlZOVlJCWlJKVk42Ukp6SPIyVj36Pi4KCgoCAfol2AnmRjlaIM0+BQkZzYkl1P2JiYkBzXDZxVlVLECVXABxZBhxTJRJJCR5BLRYxHjMuEjIrCDAqAAcpAxImBQYmABsbGgQdABkZGRQXExMTEw0VCQQTAQMVAA0NDQIRAAEPAAAIAAAHAAEGAAQEBAAEAAQDAQADAAACAAAAAAAAAAAAAAAAAAAAAAAAAAAAAAAAAAAAAAAAAAAAAAAAAAj/AOsIHEiwoEGDH3wcXMhw4ByBHerQmdiw4kAoVboInEjHosUDSzh6HBlA5EiPFE+O7KjSoxmWLSuegRmTIZs3NSvCiZKzIR0CPRnSmUAz6EA6JJQYNUhHR4WlBekcEQGVIB0tKaoOhJOFRZqqE708IVMGLMeUWk1qlbi2rdu3cOMSbAOVpRyBbRQsZblGTpsrD74G5TiFyRAZDRIMngimCJAdKxwsGJOToxwsRH7UQGFBceWJcKQIwdGiBIMCNTtyRIPkRwwVIAx8niNnjhUiN16ceGDkMx03YpwEmeHCBoANXOpsUXlWTZMcMF7soAHBAwcKJ9EmGSAAg4kQIy5oF8jQI87BogW/HA2DQEIEHlTQ9jwr32BAACH5BAEKAE4ALBgADAAVACgAhtDRzry9vLm7ubm5tba4trW2tLS1tLu0nrSxq9m/Lta5HNu6E9i5Fq6uqqytrKytq6ysqryvfaurqKmqqamopaipqKiopZ2rmqWlpKOko6OjoKKjoqChoKCgoJ+gn52enp2enZudm5qbmpmamJeZmJeZl5aXlZWXlZOWlY6WlIqWlJKUkYyRkH2Mi319emKHbFiBdSprQ2hdGh9aDjcxCgw7BgkyACUkHx8fHhkeGRgWDQQWAAMTAAsLAwIMAAILAAcHBwMJBgIHAQEHAAEGAAAJAAUFBQEFAAAFAAMCAQADAAACAAABAAAAAAAAAAAAAAAAAAAAAAAAAAAAAAAAAAAAAAAAAAAAAAAAAAAAAAAAAAAAAAAAAAAAAAAAAAAAAAAAAAAAAAAAAAAAAAAAAAAAAAAAAAAAAAAAAAAAAAAAAAAAAAAAAAAAAAAAAAAAAAAAAAAAAAAAAAAAAAAAAAAAAAAAAAAAAAAAAAAAAAAAAAAAAAAAAAAAAAAAAAAAAAjPAJ0IHEiw4I6BTZoUXEjwQkInChlKdJEwokSJDy9etKixo8ePHjmCFChyZMaRAnGU/Nhg5UcgKAlCcNkxB02NJ1EOMRITYhAhNxlWDNqzqNGOTI4qRWKUQFEkBmIqLCIAZEQkSlQEsJowRooKBbjWQFFiwoOPCYnAOBGiAsclQhP6aEGCg4OCR+I24cFCRAaiEBPOOAECg5MkGxMuUfLjxYgOHhT0wNmEyRAbKz6YWMBABs2KPCRswGAhAY3PCQEM0EABQYSKQgkmvHFAx8qAACH5BAEKACsALBYADAAUAC8Ahb+8trq2rLSxq7KvpKSlo6KjoqKjoNC2JKKioZ2enZqbmpmbmpeYlZaYlpWXlZKXkYqVk4qQj3iPe3mKiZaFG3l2al92cFeAckJ1Lx1aBwQbAA8OBwMTBQMPAAEJAAEHAAAHAAEGAAIEAgAEAAMDAgADAAICAQEBAQACAAABAAAAAAAAAAAAAAAAAAAAAAAAAAAAAAAAAAAAAAAAAAAAAAAAAAAAAAAAAAAAAAAAAAAAAAAAAAAAAAAAAAAAAAAAAAipAFcIHEiwoIgVKgoqXIiQoUOBCR9KnEixosWLGDNqpBgRY0ePGj9aFLmxogqSE09u5FCyJcUSGSOm0GghpsaZK2CaBJERBUqHJyF0DJFSQ4MTAz9IPHlhQccOD0+imJCAIIaoJyMgIPgA58KTHxwUKKiU4ckMCg58LEvwpIoPIyQwoPDRhEK3KTwQGKCSYIW7KlAYELDhZ9uTAAKQuOjWpePHkCMr9PowIAAh+QQBCgArACwWAAwAFAAvAIXGxMK9urW4uLW4trGurq2sra2srayqq6upqqmnp6emp6fStyrAqiajpaSdnJuTl5WLko9xaDJCeBQtZC9QTUUhVQMXSRQ8PDwSRQoQOwUJMQIKLQEVJhUFIAAODg4CEQICDQABCQEBBwABBgABBQAEBAIABAAAAwAAAgAAAQAAAAAAAAAAAAAAAAAAAAAAAAAAAAAAAAAAAAAAAAAAAAAAAAAAAAAAAAAAAAAAAAAAAAAAAAAAAAAAAAAAAAAAAAAIlgBXCFzBYaDBgSoOKlzIsKHDhxAjSpxIsaLFixgzatzIsaPHjQkrfrgYomLIiycppvy4MOTKhyE9TExpQWLKBhFVdDipYANEFRoMJsiQwqEKFRgMHpjwE4LBAg9EGFVxweACBxWKMkRhIiUDBBJGnFB4VAWJlQIMgGhZVmGEAQTGHjxK4eWKEgEAkD3Ksq/fv4BfajUYEAAh+QQBCgBHACwVAAwAFQAvAIbW19bJysrFx8bGxsXExcXAwcC/wb3Jway/uqm5u7rWvCvbuh7Xuia5t7O1tbW1tLKxs7KwsbCxsK6vsK/Wtxyur6+trq6trqyrrKyqq6qqqqqpqqqpqqmnqKenp6emp6ekpaWjpKSjo6Oio6Oho6OboaC4pS2cm5qVmJZ5nIB3kWt1kI9Oe2F1eXSAcxdAdBsmWyUfVBcTQgYRPAEIKQAKHwMGHwAgHgsdHBAEGAECEQAMDAwDEAACCgAJCQkBBwAGBgYBBAADAwICAgIAAgAAAQAAAAAAAAAAAAAAAAAAAAAAAAAAAAAAAAAAAAAAAAAAAAAAAAAAAAAAAAAAAAAAAAAAAAAAAAAAAAAAAAAAAAAAAAAAAAAAAAAAAAAAAAAAAAAAAAAAAAAAAAAAAAAAAAAAAAAAAAAAAAAAAAAAAAAAAAAAAAAAAAAAAAAAAAAAAAAAAAAAAAAAAAAAAAAAAAAAAAAAAAAAAAAAAAAAAAAAAAAAAAAAAAAAAAAAAAAIsgCPCKxxxIjAgwgTIkyhsGFDAw4jSpxIsaLFixgzatyYEAjHFhuHcHTAUQhHjjuKaFR5smVGgxthupxJk+IKjgU4CuAYIMdGARxg6KAo8wiBCiFK/JhYdMiEDyRkEJFY9AiEDSNiTI3I8qAPDCJYBJG4FKERCx5QzHBopOoNBhk0nHjB40fXg1VNUFjQAYQKGj0sulAQ4UKGBDYUVkV4oMEDCQMAYMSBQGTNy5gza2aqMCAAIfkEAQoAdQAsEwAMABUAKACG2NnYzs3OysvKysrMyMrJxcfGxcXFxMXFwcPBwsLBwcLBwMLBwMC/vr69vb68u7y8uLq6x8K4vry5uLq5ubm4uLm4t7i3r7uptba239Ce1rst3L4q17kd3LwW4MAB2bsYuLSutLW1sbOysLGvr7Gxr7Cwr7Cvra6urq6sra6twLBmybI417UAwqwpy6oArK2tq6ysq6yrqqurqquqqaqqqaqpqKiop6iop6enpaenpaampKamkaiEpKSjo6OioqSjoKKeoaGgnJyclp6blpybmJubmJmWipmWiZSOo5UtfY2BgoKDmIgbeWgBO3IOMGYxLGcsL1srKlkCIlYDFkYRTEEAKCgpJyMNHiMdDigTCCcBBSAACB4CBBsABBkABRgABBUAEhISEREREBERBBADDw8PBA4DAgwAAgoAAQkAAQgACAcCBgYBAQUAAQMAAgICAAMAAAIAAQEBAAEAAAAAAAAAAAAAAAAAAAAAAAAAAAAAAAAAAAAAAAAAAAAAAAAACOEAXbCoU2cOHYIIEyok6KEOGjcHF0pEWEVKlIgTJza5kLFjnQAeQ4ocKbINSYVcTiKU00UlwSVqXNYZgPFkApljKMg0gEImAyUyG5hxWcYBmTkqw2DJAkclUplQo0qdGrXmSasksY6kQ4eESzoHQsRRKabAhCFPqGwZaUUBBB0/fhxJM3IBBhk5dhD58lShVQIVTtDQUUTLRKwISsDAIQTKmZBck4hIUSMIkiltTE68QofNhgkxZvQw4gRMzIwrPnTI8MLGDR9AeHjpuKaFBg4jTOi2IADAg5BMVEQAIeHNxIAAIfkEAQoAhgAsEAAMACAAKQCH7vDw0dLS0dLR09HQ0NDSzs7Pzc3PzMzNzMzMy8zNy8zLy8vMysrLyMnKyMnGxsbHxMbFxMXEw8PCvsSmwsLBwsHAwcDAury7vbu5vLu6u7u6tra1tLa1tra01Ls/3r4y1rgi1bgj3r4A2cAK1rge2bYAtLWztbSxtLSztLSysrOysrKwsLGwrq+ura6urK2trK2sq6urqquqqamqqKmqqaqpqamoqKios6yLp6iop6empqampaamv7SEvq1Ux7I1xa8s2LUAzq8CyrABpKWlpKSloqSkoaOinaKhm6KhoqGgoaCfnp6dmZqZwaIAk5mYkZeSipeVi4yMe5CBaIt+YIgOi4cAYoQAUHlvU31YU4FAR3s/QnI9N24sN2ROL18oJ18gLmcFXE8KT0YLRUZFPVVNLVwpHFINHVABH0giDDIDCCMBHx8fCR8DExoPBh4ABBoAFRUVExMTBhcDEBERERACBhEAAxEAAgsAAgkAAQgABwcHBAQEAQcAAQYAAQQAAAMAAQIAAAIAAAEAAQAAAAAAAAAAAAAAAAAAAAAAAAAAAAAAAAAAAAAAAAAAAAAAAAAAAAAAAAAAAAAAAAAAAAAAAAAAAAAAAAAAAAAAAAAAAAAAAAAAAAAAAAAAAAAAAAAAAAAAAAAAAAAAAAAAAAAAAAAAAAAAAAAAAAAAAAAAAAAAAAAAAAAAAAAAAAAAAAAAAAAAAAAAAAAAAAAAAAAAAAAAAAAAAAAAAAAAAAAAAAAAAAAAAAAAAAAAAAAAAAAAAAAAAAAAAAAAAAAAAAAAAAAAAAAAAAAAAAAAAAAAAAAAAAAAAAAAAAAAAAAAAAAAAAAAAAAAAAAAAAAAAAAAAAAAAAAAAAAAAAAAAAAAAAAAAAAAAAAAAAAAAAAAAAAAAAAAAAAAAAAAAAAAAAAAAAAAAAAAAAAAAAAAAAAAAAAAAAAAAAAAAAAAAAAAAAAAAAAAAAAAAAAAAAAAAAAAAAAAAAAAAAAAAAAAAAAAAAAAAAAAAAAAAAAAAAAACP8ADQksVMjQoIICEypcyDBhiSB2DBXMg7ChxYZORFgRCChLxYsgFw65UqXCmpAoFwoZgUBLypcJB0yASZMBTZgHPt68WADPTpQG1PwMmeDMUJANuhy1yOfBlqUNCVjgApXhggxfqi6M0MGMVoUUVqT5OjCsF7KG4khIgWXQoK9sIpgoM0fQ1z0K9KAV2Gav37+AAwsePNAvQZ1QDyse1EfvUcUE6SRBQqXPUshHeBiJcufyYSk0chR58iYxQRYvZhBpAqbzY4IqXMTQwWQKGj9/bhY8LIdDCxg2lkAJAwfQTsUALsiocWOHEggCAgTSTVDMBwctZMBosYFMQjc3f4QWAEHCAwoNJzC8fGuRUJ0xQHz0wEEzIAAh+QQBCgCIACwNAAwAIwAqAIfo6uvl5ufk5ebj5OTh4uLg4eHf3+De39/c3d3c3Nza29vZ2tvZ2trY2drX2NjW19fV1tfV1dbU1dbU1dTS1NPS09PU0M3Q0NHP0NDQz9DPz9DOz8/NztDNzc7MzczJzMvLy8zJy8rIycnIyMjIx8fHx8bGxsXFxsHFxcXExcTExMTDxMPCw8HAwMC/wL+8vLu7u7q4vbi5ubi4uLe3t7a3trXCuJbEs2PRuTHWuirVuCvWuCPRti3gvgLevgPavwTXwBPWuBvatgDXtQDWtQCwsa+vr66uraytrKusq6qnr6imlDeokRXHrQClmgCYrW2cnZyTnJF9nHqYmZiQlZKPj45vkRhijVyAf36BdRSTewBseABiiYJfjFlSgF9Wgjs/djc2bBk/bAFgamgxYAAsWURNRxwqUw4VSQkbSBNJQRM4Nzc7Nw00KwAxLyMKLwAjHgAJIgEHIgIGHwAZFQAVEwIFEgUEHAADEQAEEAMDCwABBwABBgAEBAABBQABBAAABAAEAwACAgABAwAAAgABAQEAAQAAAAAAAAAAAAAAAAAAAAAAAAAAAAAAAAAAAAAAAAAAAAAAAAAAAAAAAAAAAAAAAAAAAAAAAAAAAAAAAAAAAAAAAAAAAAAAAAAAAAAAAAAAAAAAAAAAAAAAAAAAAAAAAAAAAAAAAAAAAAAAAAAAAAAAAAAAAAAAAAAAAAAAAAAAAAAAAAAAAAAAAAAAAAAAAAAAAAAAAAAAAAAAAAAAAAAAAAAAAAAAAAAAAAAAAAAAAAAAAAAAAAAAAAAAAAAAAAAAAAAAAAAAAAAAAAAAAAAAAAAAAAAAAAAAAAAAAAAAAAAAAAAAAAAAAAAAAAAAAAAAAAAAAAAAAAAAAAAAAAAAAAAAAAAAAAAAAAAAAAAAAAAAAAAAAAAAAAAAAAAAAAAAAAAAAAAAAAAAAAAAAAAAAAAAAAAAAAAAAAAAAAAAAAAAAAAAAAAAAAAAAAAAAAAAAAAAAAAAAAAAAAAAAAAAAAAAAAAAAAAAAAAI/wARCRw48BDBgwgTIjzEsKDChwoFtdGypSGiQ3wgaiQoZAiRJoYuHjJ0xcvGkwLh9HBCRowVEjEAoURJx8cPIBlGxJnJE5GFDmd68uzwROjMDSeMosRQgpBSjYUulLjzFGIhDSnQVH14SMMKMFsVQuDAokvYhBFAtJByFqGEES+UtD0YAcWMIyHnCoSgokYSOXovOjBBA0mZwIcajJBhhMugP3MPLRABowgVO3n0IvDgoojTwAYmhEgTWOAABhTylk7woPTAAgpcCwxwQLZAArYRCcgNIPdCi4gZWvQTWbhBRHvaGm84Zo7y5YemhMEDeSv0Q1W+vCFe9fohLFEqfC7QY1SNQO9QgAvtI/K6Q6MMeTAJZBzRmo3HH5pZoiPIjhw43GCDG3OxkUUdRgUEACH5BAEKAPEALAwADQAcACoAh/r6+vT19vLz9O/x8u/w8O7w8e3w8O7v8Ozt7uvt7evs7enr7Ojr6+nq6+jp6ufp6efo6Obo6Obn5+Xo6OXn5+bm5+Xm5+Tl5uPl5eTk5eTk5OLk5eLj4+Hi4+Di5ODh4uDh4d7h4d/f4N/f397f393f4N3f393e393e3tze3dzd3dvd29vc3dvc3Nrb3Nrb29na29na2tja2tjZ2tfY2dfY2NfX2dfX2NbX19bW19XX19TW1dXV19XV1tTV1tTV1dPU1dPU1NLU1NLU09PT1NHS09HS0tLR09HR09HR0tDR09DR0tDR0c/R0M/Q0NDP0M/P0M7Q0NHPz87Pz87Ozs3Ozc3NzczOzMvMzcvMzMrLzMrLy8nLysrKzMnKysnJysjKytTPwcjJycjJyMjIycfIyMbIxsfJweLOhOXQc8fIv+POZsfHx8bGxsTGxcbFxMXFxcTFxMnEucPFxMPEw8LEw8LDwsHDwsHCwsDCwL/BwL/Av72+vLy+vby+trm+sb69vLy7urq8ubq7ubq6ubm5t7a3tbS0s7OztLOzsbK0sbKzsrKysLGysN/AKNy+LNq+Lt2+GtvBC9m/B+TAAeO+AN+/Ad++AN27KNu8F9q7Ati8At+9ANi4Hdq3ANi1ANiyALjBp8G0dLCwrs21SsOvRay5m6C0pa+vrdfAFtW6NNa6I9W5KdK4LNG1Aayuraysq6qrqamrqKmpp6ampcmuOMGrI7GeJquZKZSukoqoZ4iih4eXj52PAFyHbl2GQWqMEpB/Ko1/KXZyaW1lHVptAFOBUDpqXy5nKDFkATljMSpTEitRFk5PTk1NTEA7Dg8zBgkzAi8qECYjCAwqCgsrAgkwAwcjABoYCAofBAgfABUVFRUUAxQSAxIQBA4NBA4NAgQTAgQRAAMNAQgICAEJAAUFBQEFAAQEBAEEAAAEAAMCAAADAAACAAEBAAEAAAAAAAAAAAAAAAAAAAAAAAAAAAAAAAAAAAAAAAAAAAAAAAAAAAAAAAAAAAAAAAAAAAj/AOMJHEhQoLqCCAvCWwhPYbx0CSPGY8iuoUCG2SQiXAfK06deDBkuOwVNY8FKnC5ZclVM27VkwM68yWVSIiVNmyalkmIlVM2aksI8UfOz5hEobMQV1UjEyRdmSyOiC8JEy6+oCeEFWYJFVzmsBc1R7WIqGliCToIk6fIH2dmBPoAg6eLH2FuBNnogIQNoV7u7M3IoaROokbW7MG4UgVNolK+7LmgAYVMIFa2/Z1nE4OGFEKNZ1OK1w7z0xIsbVPgcgnVsXDiwIljMcLLHUCxebzuYNhJnkCxlbzN8UIGjCh1F1d5a0EDixY8pec69RVcBhIoaQ8wIugsBw4gXOsD0trm7QAIHEjGi1Nl21wEGEC2EiLFzd0AEDih2bKlzNx4CCiDUkAUe/QnQwAUmGOGGQ0shgoADG8jAxSsEWVRUMAQo8EAJXMwx0EJYAXBAAh6Uocc7FzG0FCkCFDABF3c0kyKINRHzDDjdBMBAE2MsMiONGlkYjwEhpHDFRVHB840w2KyRhgAIrEAOWNPcgkstjziCCRpyJOLMMEku5A0kkWTSySqliHIWPNKowkortqDYnzvcaBQQACH5BAEKAPoALAwADQAbACoAh/n6+vj5+fb39/T19vP19fP09PLz9PPy8vHz8/Dy8vDx8vDx8e/w8e/w8O7w8e3v7+zu7uvt7uvt7evs7ers7ers7O7r4+jr6+jq6+jp6ufp6efo6ebo6ebn5+Xn5+Tn5+Tm5uXl5uTl5uTl5ePk5eLj5OLj4+Hj5OHi4+Hi4uDi4uHh4uDg4d/g4d/f4N3g397f393f397e393e4N3e3t3d39ze3tzd3tzd3dvc3tvc3dvc3Nrc3Nvb3Nrb3Nnb29na3Nna29ja2tjZ29jZ2tjZ2djY2dfY2dfY2NfX2NbX2NbW19XX1tXW1tXV19XV1tTV1dPV1dTU1dPU1dPU1NPT1NPT09LT1NLT09LS1NLS09LS0tHS0tDS0dLR0tHR0tHQ0dDR0tDR0dDQ0c/Q0dDQ0M/Q0NTPwM7Pz87Pzs3Pz87Oz83O0M3Nz8zNzszNzczMzszMzczMzMvMzMrMy8rLy8rKy8rLytPNrsjKysjKycjKyMnJysjJycfIyMXHxsXGxsXExcPExMPEw8PDw8PDwsLDw8LDwsLDwcHDwsLCwsDCwL/BwL/AwL7Av77Avr6/v72/vr2/vb2+vr29u7q8u7m7urm6uri6ubi6uLq5uLm5uLi5t7e4uLa3tr3CstvAR8+6Zb6zht/AMtO4P9CzN8yzOLW5tbS1tLO0tLOzsbKzs62zqNy/Kdy+I9nBEuHCCdm/Btu8Jd29Ftu8Bde6Kta5H8uzK9m5HNW5Atq2ANm2ANO0AbGysbCwrq+ura2ura2urKytraysq6qqqqmpqqiqqKioqMOsMs2yLNCuALqpLJ+kopucmpqcmrCeLJ+QMYOhbIWZEZGMAGeRZ4SEhH93MIJ2LZuBAFaBPEluMXhsJkBnNyhaIVFKFFBCAB5NFQhCAxVBBRQ8CDw3ExY1ChQ2DhI3FQoqARoiAAYaAAQYAhYWFhISEhUSAwsLBQMNAAIOAAEJAAYGAgUFBQEEAAADAAACAAABAAAAAAAAAAAAAAAAAAAAAAAAAAAAAAj/APUJHEhQYL6CCBMqPChP4cKEB+s5HJivYkWEFsuZm2iwIjZl6ixaVHfqVDyO+pTtWslrGrx68aRJwyMnkDiU35TpwvYNFq1cuWK9wlPmDjqUCNO5e/fq1RkwfMYhVYjGyxYzfbRNxWhGC5YxdqLh21pQDJUqX+CIWkd2YDszUtC6+RSurUA/aahY4eIGUTZ7dueQqYJFS5tC0Y62RTPlCZUsbASx6mZXjJIkT66wIaSp2tit7LgYMbJkyhpFnH6BI9sOChEiSKCQIeQpGLN7ZJUACVKkyRU/m3wdO4cPMNIhOXoEQeIkDiVVw6jBY4vUR40bPYgkCbOotjOpU3XM/5CBw0cRKoM4DWvGbesRFixg6AjSpA+kXsxWT81XwsSKGTgQ0cUdkvRizFb5iBACCS3QsAMTXfwBCSrvbCVCByGY4AIORUShxyOZZLIVPRt0IAIKLuyAhBqCRDJJJ1thUCIJKcDwAxZ5GMKIJVtFQMEGIJjQwg5QzDFII5YUMxU1DlSgwQgp2NDEG4k4ckkqZCUwwQYisMADF4AYEoknzEyFQAELOCmCCkLUAYgjqBRTDVL5EJAABBVk4EEMdRhSySrCHINSMrQEMAADEEiAwQl5OIJJL8Ac6NA85CDjiisAHNqABB/QccifwNBZCiihZFrAAxyoscckq8yJ0jbQeEcjUDsCKHDBCzYsQsxW1ohkwQEGPBDDJZvsV5E37oAyiiyjgEKKKKKQRc4yz5TSiiuz4FILNHZZZEotttxiF0XzXGPKMggFBAAh+QQBCgD8ACwOAA4AGgApAIf6+vv5+vr5+fn3+Pj29/f19vf09fby9PTy8/Ty8/Px8/Py8vLx8vPw8vLy8PDw8fLv8PDu8PHy7+3u7/Du7+/t7+/s7u/s7u7s7e3r7e3r7O3q7O3q7Ozp7O3p6+vp6uvo6uro6ern6ern6Onm6Onm6Ojn5+jm5+fl5+jk5+fm5ufl5ufl5ubk5ubk5ebk5OXj5ebj5OTi5ebi5OTi4+Th4+Ti4uPh4uPh4eLg4uLg4eLg4eHf4eLf4OHf3+De3+De39/d3t/d3t7c3t7d3d/c3d/c3N3b3d3b3N3b3Nza3Nza293a29va29ra2tvZ2tzZ2tvY2dvY2drY2dnX2dnW2dfY2NnX2NnX2NjX19jW2NjW19jW19fW1tjV19fV1tbV1tXU1tXV1dfV1dbU1dXU1NXT1dXT1NXT1NTT09TS09TS09PR09LS0tPR0tPR0tLR0dLQ0tLQ0dLQ0dHR0NHQ0NHP0NDPz9DPz8/Oz9HOz8/Ozs/Nz87Nzs7Mzs7Nzc3Mzc3Lzc3LzMzKzMvLy8zKysrJysrIysnKycrIycjIyMjHyMjHyMfGyMfHyMPHx8bFxr/FxcXExMTDw8LCw8PBw8LCwsHAwsHAwL6/wcC+wL+9v77QzbjQzLHWzJPfy2XaxGW+wLy8vr29vbvLvYi7vby6vLu5ubi4ube2uLe2uLWnuZndvy/fviTdvh3cuyTjwAHdvgXcvwzevAHXvDzTuS7YuiHYugjYuRXPuQq2t7e1trW0tra1tbWztbOztLSys7KysrGwsa+vsK2vrq3Hrzq6ozS8pybatwDZtwDYtQDIrACtr66qq6yqqqmerZyOq2ykpqSipaOfoqGeoJ2enZmsmzyLmZVlj2Vnh4NRhmpuhQF2bTBMeDI6dhZERERXSgAuWRcaVBIlTygkSA0WRAs+OR0wMC8XQg8MNgUcKgQJJAYFHgEVFRUGGgEGGAALCgMCCQABCgAHBgMBBwAEBAEBAwACAgEABAAAAgAAAQAAAAAAAAAAAAAAAAAAAAAI/wD5CRxIUOA+gfoKKlxI8CC/hAwjNjyYz51EfvsyKsyYkdwziBs5ZtyWTmRHR5PYMRQJDhkyZcvIxXO3LVcnPIjiXeSnLNksWLBmJUsWS1YnOo7o7SQ4bxunTqA8wcED6d3Shn/uwGkDR8+jclcH3ttTp02aNnYQdcsXdt+3PXDQlFkzhxA0i1f3LeozRy5dQavEhZ1nCJCdNWjWvAEUChu+q5gI6amjJnGbPZOupVvqTRIgOWfEjDmjJo8kVNg4P+qzpkuWLF/Q2Il0ipjgi+0K6UlzRYqVLWTgKDo1TJpSief6vCEjRcoULF/SCBoVzNm4fMcXtotjZgs/KFCmbP9B42ZSL2LX1l1E4yXKEiRLnIgfY4g4NW3yJHqh8qQIESNJQHFFFnqYIgw114QjERdQIEHED0EQEeAVb1iyizPSlGNPROcoEcQPO/TggxBJOAGGIJaoMowvG0akxA430GDDDT8IYcQUbByySSqp/DKNizq84IILMeBQYxNhBHKJKabw0kxE2tzgggoqsBCDDj4YQUUcjWSyCS/ZRPRNDSvwY8IJLMyQAxBMmDEIJZvsgk5E7ZRAQgghjHACDDT0kMQXflRSSi8/RvRBBh1sAMIILVw5hBZ8UKJJKtFIpAEFEURgAQcioBADD0eQwUglujwp0QQNHKAABRyAUAIMNRylcYgmvzhz0QMMHIBAAxNo4EGnPCxSCjDXSLQPOATwY0ACD1SAQQYeyNCIKMBElNEtsbQigAAFJABBBBVskEIimzAjUTGvyNLKJwAEMMABBzBwgQxViCKROfyoQwstoICyDwAAFKDApk0EsxQ81sBjUDUSOLAABp6QshQ39Yj0CSuv2KJxWxlxYwwtrLDiCi7HhCVQPcfcs8/HtdRi8kAicQNOQQEBACH5BAEKAPsALBIADgAYACkAh/v7+/r6+vn6+vn5+vb3+PX39/b29/T19vP19fT09fL09PLz9PLz8/Hy8/Hy8vDy8vDx8vDx8e/x8fPw7u/w8e7w8O7v8O3v7+3u7+zu7uzt7uvt7uvs7ers7Orr7Onr6+nq6+jq6+jq6vDo1Ofp6ufo6ufo6ebo6ebo6Obn6Obn5+Xn6OXn5+Xm5+Xm5uTm5uXl5uTl5uTl5eTk5ePl5uPk5ePk5OLk5OLj4+Hj5OLi4+Hi4+Hi4uDi5OHh4uDh4uDh4d/g4d7g4N7f4N7f393f393e39ze39zd393e3t3d3tzd3tzc3tzd3dzc3evftdvd3dvc3tvc3dvc3Nrc3Nrb3drb3Nrb29nb29na3Nna29na2tja2tja2dnZ2tjZ29jZ2tjZ2djY2dfY2dfY2NbY2NfX2NbX2dbX2NbX19XX2NbW19XW19XW1tTW1tXV1tTV19TV1dPV1dTU1dTU1NPU1dPU1NPT1NPT09LU1NLU09LT1NLT09HT09LS09LS0tHS09HS0tLR0tHR0tDS0tDR09DR0dDQ0dDPz8/S0c/Q0c/Q0M/P0M7Pz8zPzs7Oz83Oz83Ozs3Ozc3NzszOzczNzczNzMzMzczMzMvMzMvMy8rLzMnLysnKysnKycjJyc/Ow8nJx8fJyMjIx8fIx8bIx8jHx8bHxsbGxcXFvsTFxMTEw8LDw7/BwL+/vr2+vLu9vM3Js7q8u7q8ueDHU9/DPN2/Ndq+QODBLdrAGNm9Ktm8LuLAAt6/E9zACbm6ubi6t7i5uLe3trS1tMO0bs+1O8GqLtq5Itq7Gti5Ftu7DNy7ANS7BNm3ANe0ANCwAb2nALGzs7Cxrq6wr66vrKysq6qqqKeoqKGkpJ6fna2dSo+eDoWZgW6VW6CXAIN3KFmGUTpvM05tACJVDEBKERFCChY5ETMvDiUlJSEgGQcfAQYgAhYbBQQRBQIWAA8OBgMQAAIKAAIHAAUFBQAEAAMCAAICAgEDAAEBAAABAAAAAAAAAAAAAAAAAAAAAAAAAAj/APcJHEhwnz6B+QoqXCjwIMOHBfU5VAfxocSD3ehZdEjwoj5zpigq9Cgxnjdx8S5uE4Qp4UiSAps9g+aNWS5BoSoa1PfM2TJeQH3FOjTLZcV34zSBQiTITyBGqeDplOiqEqNDfu74OTSq3FR9pCYtCnSHDp5Bm8AZZagv36dKi/7QmcMn0CVr7iBKlOYJU6NBduzw+QPpVTi961h1yhTJEB/BfBSx4haPrb5sqjZFUuSnTpw7dwqZEgaOYblyr1Bl4gxnzZo3cQBt+lXNnMJx3cKtImXJkJ19Y8SYYcPnkStq2e7dI6jO3bxRniQVmjMGDBgxaWKfGmbNXLuI6KIv/9rTBoyWLWHIsJkziTa3cBoJpmtkKA+cM1qsWNHihQyaOcdlA85hBNnTRx5unPFFFVE4IYUV6K2hijTZVDOOPB25wUYZYGTBhBFGKOEEhGKIMgs1w0yDTUdtlMGFFVIgMcQQRBjRxBRXLKIKMMFEo5AcZFixhBFD/ODDD0EUkUQTdojyiizTKMQJF1QUuYMNWOoQBBFNpEEJK7Bco5AoWEARBA4ztOACDDLsAEQSXRByiiwLObLFET/cEIMKKahpAw9EXKHHKb8slMgSQuQQQwsnmJCCCjLgEMQUdpTyykJq9EDDCieUEAIIJKDwQg08JMFFJbAshE4KJHTAwQYbaMjQAQgmsNCmEIEEw5AIH2RAwQMSQGBBBh6IYMIKNOQxDEM5ZHABBQ0osEADEmDAwQcgnCDHsgxJQIEDDCigAAMRVIABBhuQQIlFyCBAAAEFGHAAAxBQAEEGIbTCVjLK4DKBAPsIMAABByCwQAUoiDkSOcr40kstT7wDwMQBGJCAA7FowxA7xeyyyy3ENGTPCLTYcswx+GxsEDsaN1QMLbjgkksyOp1zjjYSfWNMMbbYossu9ei0kz71GHNRMeQITVDKEu3zTkEBAQAh+QQBCgD5ACwUAA4AGAApAIf7+/v6+vr5+vr5+fr4+Pn3+Pj39/j19vf29fT09fbz9fXz9PXy9PTy8/Ty8/Px8/Ty8vPx8vPx8vLz8fHw8vLw8fLv8fHv8PDu8PHu7/Dt7/Dt7u/s7u7r7e7r7e3r7O3q7O3q6+zp6+vo6+zs6eTo6uro6ern6ern6Onn6Ojm6Onm5+jm5+fl6Ojl5+jl5+fl5ufl5ubk5ufl5ebk5ebj5ebj5eXj5OXj5OTj4+Ti5OXi4+Th4+Tg4+Ph4uPh4uLg4uLh4eLf4OHf4ODe4ODf3+De3+De39/d4OHd3t/d3t7c3t7b3t/d3d7c3d/c3d7c3d3b3d3c3N7b3N3a293a29za2tvZ3NzZ29zZ2tvZ2trY2trZ2drY2dvY2drX2drY2dnY2NnX2NnX2NjW2NnX19jW19nW19jW19fV19fW1tfV1tfV1tbV1dbU1tbU1dbU1tXU1NXT1NXT1NTS1NTt4KzS1NPo1obT09XT09TT09PS09PS0tTS0tPS0tLR09PR0tPR0tLR0dHQ0dLQ0dHQ0NDP0NDPz9DOz9DOz8/Nz8/Ozs/Nzs7Nzs3Nzc7Mzc3MzczMzMzLzczLzM3LzMzKy8vKy8rKysrJysrJycrIycjHycjHyMfHx8jHx8fGx8bGxsbFxcTExsXExMPDw8HBwcDAwL/eznvPw27IyLvdwkG+v727vby9vbmyvJXcwi3bvzLZvDbavCjevw3lvgC6urm3ube3uLe2t7XKtVTXuyjQtie6uD3DrTHbuSXXuyTbuhnbuRTbuADYtwDRsQDQsADTrwC5oh+0trS0tbWztbSys7Gxsa+vsbGwsK6usK+qq6qoqKeho6GfoZ+dnpycnZycnZuMn4l/n2afnwmVlpaHm5eqmjqQhjCPgixnjGZXiDJQfU9WbzY+bjIvZxwiXwk4TBcTNwMSSyo5NAoRMwQhHgYKLQoGKAEGIAIIEAECDwAICgQCCAABBgAFBAACAwEAAwAAAQAAAAAAAAAAAAAAAAAAAAAAAAAAAAAAAAAI/wDzCRwo8N5AfALtEVzIsGFBhxAPRpwoEB9CigNbEbSIMNVEjqV4CYQHz2K2RR8tnkuVrZgwYcWynRKXEp+6T6iIGTM2TJWgcTXLhaK0iBatPn4KhaNoERsnSIkK9cmzh5ArgxHx3cOFyZEhQXni5AnUqV1WfOdWWWpkKNCcOHP8TFoK0eI1UpYeJRI0Z46ePYiu1cUXjhmoS5QYGcpHdc8gU3QZ4pNHrZanSnoH4YkDl08mZu4WWpynbVopT5QSaV6jRk0bOYtwbVNYcTI6a8tGcYpkqM+bMmLKnHkDKFQ0drTxlQO3zVorUJoeFdqzBowXMGPWyDnk7Fs4dfnmlf8jN63aKE2VGBGag8ZLFi7Y1bxZZm0cOXgGoUGTpinxejdiZFFFFVZwEdwtz0SDjjwCNcMMNFANMscaZnRBhRRSTFGFFmGsgsszCyWDTFtzsHFGF1U4kUQSTUBBoCi2XDRQMrbQ4UYaYniBxRT5GFFEEUk8AQUmrDCkzCpz4CggFE8UEcSTQxzRhCK3MBSPKHaQAUYVTxghhA844JDDD0NAEYg2km1CCBhbTGFEEDvQAEMMM+DwAxR0NFQPJ3toccUSX94AwwosvGCDD0rM0RA+ksyBRRREAHEDDSugkMIKNOxwhBaL/vHFEkj0oIMMK5ggggkovEADD0IsSgYSPNTAoMIJIowAQgcghFACCi7U4BATpJ4AAgcaaIBBBRls4IEIIqjgkB2misDBBRQ8wEADFFzAgbItQFQCBx9kYIEEDVwrAbIWdBARHBdUUIEDCuRzwAELlBtBCXX9IsECBhRAQD4CCEBAAQpAoItDFgUTzCkkIBCAQAAUMMEpvgCD8DHCzBKMKnfUVocqr/gSzC6L9qLLL7KokkttucQCy8u9QLQOPem8w405FnXDTTrr4BMPRvl4I07OMVsEtERILxQQADs=\" />"
          }
        },
        "78adc582ba5545eab2a5e90c7e0eb81c": {
          "model_module": "@jupyter-widgets/base",
          "model_module_version": "1.2.0",
          "model_name": "LayoutModel",
          "state": {
            "_model_module": "@jupyter-widgets/base",
            "_model_module_version": "1.2.0",
            "_model_name": "LayoutModel",
            "_view_count": null,
            "_view_module": "@jupyter-widgets/base",
            "_view_module_version": "1.2.0",
            "_view_name": "LayoutView",
            "align_content": null,
            "align_items": null,
            "align_self": null,
            "border": null,
            "bottom": null,
            "display": null,
            "flex": null,
            "flex_flow": null,
            "grid_area": null,
            "grid_auto_columns": null,
            "grid_auto_flow": null,
            "grid_auto_rows": null,
            "grid_column": null,
            "grid_gap": null,
            "grid_row": null,
            "grid_template_areas": null,
            "grid_template_columns": null,
            "grid_template_rows": null,
            "height": null,
            "justify_content": null,
            "justify_items": null,
            "left": null,
            "margin": null,
            "max_height": null,
            "max_width": null,
            "min_height": null,
            "min_width": null,
            "object_fit": null,
            "object_position": null,
            "order": null,
            "overflow": null,
            "overflow_x": null,
            "overflow_y": null,
            "padding": null,
            "right": null,
            "top": null,
            "visibility": null,
            "width": null
          }
        },
        "7f307955aba442e19810f3638fe3461f": {
          "model_module": "@jupyter-widgets/base",
          "model_module_version": "1.2.0",
          "model_name": "LayoutModel",
          "state": {
            "_model_module": "@jupyter-widgets/base",
            "_model_module_version": "1.2.0",
            "_model_name": "LayoutModel",
            "_view_count": null,
            "_view_module": "@jupyter-widgets/base",
            "_view_module_version": "1.2.0",
            "_view_name": "LayoutView",
            "align_content": null,
            "align_items": null,
            "align_self": null,
            "border": null,
            "bottom": null,
            "display": null,
            "flex": null,
            "flex_flow": null,
            "grid_area": null,
            "grid_auto_columns": null,
            "grid_auto_flow": null,
            "grid_auto_rows": null,
            "grid_column": null,
            "grid_gap": null,
            "grid_row": null,
            "grid_template_areas": null,
            "grid_template_columns": null,
            "grid_template_rows": null,
            "height": null,
            "justify_content": null,
            "justify_items": null,
            "left": null,
            "margin": null,
            "max_height": null,
            "max_width": null,
            "min_height": null,
            "min_width": null,
            "object_fit": null,
            "object_position": null,
            "order": null,
            "overflow": null,
            "overflow_x": null,
            "overflow_y": null,
            "padding": null,
            "right": null,
            "top": null,
            "visibility": null,
            "width": null
          }
        },
        "81fc7c2ebda3416485938eb845ceedc4": {
          "model_module": "@jupyter-widgets/base",
          "model_module_version": "1.2.0",
          "model_name": "LayoutModel",
          "state": {
            "_model_module": "@jupyter-widgets/base",
            "_model_module_version": "1.2.0",
            "_model_name": "LayoutModel",
            "_view_count": null,
            "_view_module": "@jupyter-widgets/base",
            "_view_module_version": "1.2.0",
            "_view_name": "LayoutView",
            "align_content": null,
            "align_items": null,
            "align_self": null,
            "border": null,
            "bottom": null,
            "display": null,
            "flex": null,
            "flex_flow": null,
            "grid_area": null,
            "grid_auto_columns": null,
            "grid_auto_flow": null,
            "grid_auto_rows": null,
            "grid_column": null,
            "grid_gap": null,
            "grid_row": null,
            "grid_template_areas": null,
            "grid_template_columns": null,
            "grid_template_rows": null,
            "height": null,
            "justify_content": null,
            "justify_items": null,
            "left": null,
            "margin": null,
            "max_height": null,
            "max_width": null,
            "min_height": null,
            "min_width": null,
            "object_fit": null,
            "object_position": null,
            "order": null,
            "overflow": null,
            "overflow_x": null,
            "overflow_y": null,
            "padding": null,
            "right": null,
            "top": null,
            "visibility": null,
            "width": null
          }
        },
        "8c35cf7a81b246719c5aa35ba3e07add": {
          "model_module": "@jupyter-widgets/controls",
          "model_module_version": "1.5.0",
          "model_name": "HTMLModel",
          "state": {
            "_dom_classes": [],
            "_model_module": "@jupyter-widgets/controls",
            "_model_module_version": "1.5.0",
            "_model_name": "HTMLModel",
            "_view_count": null,
            "_view_module": "@jupyter-widgets/controls",
            "_view_module_version": "1.5.0",
            "_view_name": "HTMLView",
            "description": "",
            "description_tooltip": null,
            "layout": "IPY_MODEL_72bdcf04ca0540558829ee0b931f829c",
            "placeholder": "​",
            "style": "IPY_MODEL_e1f848919f0b48b9b8fc0c048132ea07",
            "value": "100%"
          }
        },
        "8df6c32fe71d4c35b13aa9272f9275c7": {
          "model_module": "@jupyter-widgets/controls",
          "model_module_version": "1.5.0",
          "model_name": "DescriptionStyleModel",
          "state": {
            "_model_module": "@jupyter-widgets/controls",
            "_model_module_version": "1.5.0",
            "_model_name": "DescriptionStyleModel",
            "_view_count": null,
            "_view_module": "@jupyter-widgets/base",
            "_view_module_version": "1.2.0",
            "_view_name": "StyleView",
            "description_width": ""
          }
        },
        "91dc6fbc2f40464e8de6e5a1e6780097": {
          "model_module": "@jupyter-widgets/controls",
          "model_module_version": "1.5.0",
          "model_name": "HTMLModel",
          "state": {
            "_dom_classes": [],
            "_model_module": "@jupyter-widgets/controls",
            "_model_module_version": "1.5.0",
            "_model_name": "HTMLModel",
            "_view_count": null,
            "_view_module": "@jupyter-widgets/controls",
            "_view_module_version": "1.5.0",
            "_view_name": "HTMLView",
            "description": "",
            "description_tooltip": null,
            "layout": "IPY_MODEL_42ed170f75d742c9acbde307b9042827",
            "placeholder": "​",
            "style": "IPY_MODEL_0673e93600cb4c36a19a02a8deff6fc9",
            "value": "<img src=\"data:image/gif;base64,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\" />"
          }
        },
        "9283fe2f590241b8a0a27512d9905d83": {
          "model_module": "@jupyter-widgets/controls",
          "model_module_version": "1.5.0",
          "model_name": "ProgressStyleModel",
          "state": {
            "_model_module": "@jupyter-widgets/controls",
            "_model_module_version": "1.5.0",
            "_model_name": "ProgressStyleModel",
            "_view_count": null,
            "_view_module": "@jupyter-widgets/base",
            "_view_module_version": "1.2.0",
            "_view_name": "StyleView",
            "bar_color": null,
            "description_width": ""
          }
        },
        "94a35edbc58f473c9a284ed7e1a4fe95": {
          "model_module": "@jupyter-widgets/base",
          "model_module_version": "1.2.0",
          "model_name": "LayoutModel",
          "state": {
            "_model_module": "@jupyter-widgets/base",
            "_model_module_version": "1.2.0",
            "_model_name": "LayoutModel",
            "_view_count": null,
            "_view_module": "@jupyter-widgets/base",
            "_view_module_version": "1.2.0",
            "_view_name": "LayoutView",
            "align_content": null,
            "align_items": null,
            "align_self": null,
            "border": null,
            "bottom": null,
            "display": null,
            "flex": null,
            "flex_flow": null,
            "grid_area": null,
            "grid_auto_columns": null,
            "grid_auto_flow": null,
            "grid_auto_rows": null,
            "grid_column": null,
            "grid_gap": null,
            "grid_row": null,
            "grid_template_areas": null,
            "grid_template_columns": null,
            "grid_template_rows": null,
            "height": null,
            "justify_content": null,
            "justify_items": null,
            "left": null,
            "margin": null,
            "max_height": null,
            "max_width": null,
            "min_height": null,
            "min_width": null,
            "object_fit": null,
            "object_position": null,
            "order": null,
            "overflow": null,
            "overflow_x": null,
            "overflow_y": null,
            "padding": null,
            "right": null,
            "top": null,
            "visibility": null,
            "width": null
          }
        },
        "a06c3c13a4cd4896b204a3707c6b36d5": {
          "model_module": "@jupyter-widgets/controls",
          "model_module_version": "1.5.0",
          "model_name": "FloatProgressModel",
          "state": {
            "_dom_classes": [],
            "_model_module": "@jupyter-widgets/controls",
            "_model_module_version": "1.5.0",
            "_model_name": "FloatProgressModel",
            "_view_count": null,
            "_view_module": "@jupyter-widgets/controls",
            "_view_module_version": "1.5.0",
            "_view_name": "ProgressView",
            "bar_style": "success",
            "description": "",
            "description_tooltip": null,
            "layout": "IPY_MODEL_741b9f90895a4a82b11219afe9b77450",
            "max": 64,
            "min": 0,
            "orientation": "horizontal",
            "style": "IPY_MODEL_b5a7cd833d96467d992a8c1dbad26907",
            "value": 64
          }
        },
        "a657c7cbe1c243118a07478465172ec9": {
          "model_module": "@jupyter-widgets/base",
          "model_module_version": "1.2.0",
          "model_name": "LayoutModel",
          "state": {
            "_model_module": "@jupyter-widgets/base",
            "_model_module_version": "1.2.0",
            "_model_name": "LayoutModel",
            "_view_count": null,
            "_view_module": "@jupyter-widgets/base",
            "_view_module_version": "1.2.0",
            "_view_name": "LayoutView",
            "align_content": null,
            "align_items": null,
            "align_self": null,
            "border": null,
            "bottom": null,
            "display": null,
            "flex": null,
            "flex_flow": null,
            "grid_area": null,
            "grid_auto_columns": null,
            "grid_auto_flow": null,
            "grid_auto_rows": null,
            "grid_column": null,
            "grid_gap": null,
            "grid_row": null,
            "grid_template_areas": null,
            "grid_template_columns": null,
            "grid_template_rows": null,
            "height": null,
            "justify_content": null,
            "justify_items": null,
            "left": null,
            "margin": null,
            "max_height": null,
            "max_width": null,
            "min_height": null,
            "min_width": null,
            "object_fit": null,
            "object_position": null,
            "order": null,
            "overflow": null,
            "overflow_x": null,
            "overflow_y": null,
            "padding": null,
            "right": null,
            "top": null,
            "visibility": null,
            "width": null
          }
        },
        "a6a64f8bcae54906a678f9425a793c19": {
          "model_module": "@jupyter-widgets/base",
          "model_module_version": "1.2.0",
          "model_name": "LayoutModel",
          "state": {
            "_model_module": "@jupyter-widgets/base",
            "_model_module_version": "1.2.0",
            "_model_name": "LayoutModel",
            "_view_count": null,
            "_view_module": "@jupyter-widgets/base",
            "_view_module_version": "1.2.0",
            "_view_name": "LayoutView",
            "align_content": null,
            "align_items": null,
            "align_self": null,
            "border": null,
            "bottom": null,
            "display": null,
            "flex": null,
            "flex_flow": null,
            "grid_area": null,
            "grid_auto_columns": null,
            "grid_auto_flow": null,
            "grid_auto_rows": null,
            "grid_column": null,
            "grid_gap": null,
            "grid_row": null,
            "grid_template_areas": null,
            "grid_template_columns": null,
            "grid_template_rows": null,
            "height": null,
            "justify_content": null,
            "justify_items": null,
            "left": null,
            "margin": null,
            "max_height": null,
            "max_width": null,
            "min_height": null,
            "min_width": null,
            "object_fit": null,
            "object_position": null,
            "order": null,
            "overflow": null,
            "overflow_x": null,
            "overflow_y": null,
            "padding": null,
            "right": null,
            "top": null,
            "visibility": null,
            "width": null
          }
        },
        "a84b90fa6c7f4aef95d0f2d310b0a6bd": {
          "model_module": "@jupyter-widgets/base",
          "model_module_version": "1.2.0",
          "model_name": "LayoutModel",
          "state": {
            "_model_module": "@jupyter-widgets/base",
            "_model_module_version": "1.2.0",
            "_model_name": "LayoutModel",
            "_view_count": null,
            "_view_module": "@jupyter-widgets/base",
            "_view_module_version": "1.2.0",
            "_view_name": "LayoutView",
            "align_content": null,
            "align_items": null,
            "align_self": null,
            "border": null,
            "bottom": null,
            "display": null,
            "flex": null,
            "flex_flow": null,
            "grid_area": null,
            "grid_auto_columns": null,
            "grid_auto_flow": null,
            "grid_auto_rows": null,
            "grid_column": null,
            "grid_gap": null,
            "grid_row": null,
            "grid_template_areas": null,
            "grid_template_columns": null,
            "grid_template_rows": null,
            "height": null,
            "justify_content": null,
            "justify_items": null,
            "left": null,
            "margin": null,
            "max_height": null,
            "max_width": null,
            "min_height": null,
            "min_width": null,
            "object_fit": null,
            "object_position": null,
            "order": null,
            "overflow": null,
            "overflow_x": null,
            "overflow_y": null,
            "padding": null,
            "right": null,
            "top": null,
            "visibility": null,
            "width": null
          }
        },
        "a878746f1b314731ae8ebed408512778": {
          "model_module": "@jupyter-widgets/base",
          "model_module_version": "1.2.0",
          "model_name": "LayoutModel",
          "state": {
            "_model_module": "@jupyter-widgets/base",
            "_model_module_version": "1.2.0",
            "_model_name": "LayoutModel",
            "_view_count": null,
            "_view_module": "@jupyter-widgets/base",
            "_view_module_version": "1.2.0",
            "_view_name": "LayoutView",
            "align_content": null,
            "align_items": null,
            "align_self": null,
            "border": null,
            "bottom": null,
            "display": null,
            "flex": null,
            "flex_flow": null,
            "grid_area": null,
            "grid_auto_columns": null,
            "grid_auto_flow": null,
            "grid_auto_rows": null,
            "grid_column": null,
            "grid_gap": null,
            "grid_row": null,
            "grid_template_areas": null,
            "grid_template_columns": null,
            "grid_template_rows": null,
            "height": null,
            "justify_content": null,
            "justify_items": null,
            "left": null,
            "margin": null,
            "max_height": null,
            "max_width": null,
            "min_height": null,
            "min_width": null,
            "object_fit": null,
            "object_position": null,
            "order": null,
            "overflow": null,
            "overflow_x": null,
            "overflow_y": null,
            "padding": null,
            "right": null,
            "top": null,
            "visibility": null,
            "width": null
          }
        },
        "aa0943a531a44c36b71915315abb3407": {
          "model_module": "@jupyter-widgets/controls",
          "model_module_version": "1.5.0",
          "model_name": "HTMLModel",
          "state": {
            "_dom_classes": [],
            "_model_module": "@jupyter-widgets/controls",
            "_model_module_version": "1.5.0",
            "_model_name": "HTMLModel",
            "_view_count": null,
            "_view_module": "@jupyter-widgets/controls",
            "_view_module_version": "1.5.0",
            "_view_name": "HTMLView",
            "description": "",
            "description_tooltip": null,
            "layout": "IPY_MODEL_f6c910652933487f8a3dc8410f60abee",
            "placeholder": "​",
            "style": "IPY_MODEL_6bb97c3c81854be4904d958e39cfcc09",
            "value": "100%"
          }
        },
        "af048afa0da14af4baa05d6c2ba135a0": {
          "model_module": "@jupyter-widgets/controls",
          "model_module_version": "1.5.0",
          "model_name": "HTMLModel",
          "state": {
            "_dom_classes": [],
            "_model_module": "@jupyter-widgets/controls",
            "_model_module_version": "1.5.0",
            "_model_name": "HTMLModel",
            "_view_count": null,
            "_view_module": "@jupyter-widgets/controls",
            "_view_module_version": "1.5.0",
            "_view_name": "HTMLView",
            "description": "",
            "description_tooltip": null,
            "layout": "IPY_MODEL_a878746f1b314731ae8ebed408512778",
            "placeholder": "​",
            "style": "IPY_MODEL_4af896fe94804c9b84944873b81105b4",
            "value": "<img src=\"data:image/gif;base64,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\" />"
          }
        },
        "b1d20f81d7804d169c664bf76fe11a3d": {
          "model_module": "@jupyter-widgets/base",
          "model_module_version": "1.2.0",
          "model_name": "LayoutModel",
          "state": {
            "_model_module": "@jupyter-widgets/base",
            "_model_module_version": "1.2.0",
            "_model_name": "LayoutModel",
            "_view_count": null,
            "_view_module": "@jupyter-widgets/base",
            "_view_module_version": "1.2.0",
            "_view_name": "LayoutView",
            "align_content": null,
            "align_items": null,
            "align_self": null,
            "border": null,
            "bottom": null,
            "display": null,
            "flex": null,
            "flex_flow": null,
            "grid_area": null,
            "grid_auto_columns": null,
            "grid_auto_flow": null,
            "grid_auto_rows": null,
            "grid_column": null,
            "grid_gap": null,
            "grid_row": null,
            "grid_template_areas": null,
            "grid_template_columns": null,
            "grid_template_rows": null,
            "height": null,
            "justify_content": null,
            "justify_items": null,
            "left": null,
            "margin": null,
            "max_height": null,
            "max_width": null,
            "min_height": null,
            "min_width": null,
            "object_fit": null,
            "object_position": null,
            "order": null,
            "overflow": null,
            "overflow_x": null,
            "overflow_y": null,
            "padding": null,
            "right": null,
            "top": null,
            "visibility": null,
            "width": null
          }
        },
        "b485b2297b6d445a99611dc8abb8915a": {
          "model_module": "@jupyter-widgets/controls",
          "model_module_version": "1.5.0",
          "model_name": "FloatProgressModel",
          "state": {
            "_dom_classes": [],
            "_model_module": "@jupyter-widgets/controls",
            "_model_module_version": "1.5.0",
            "_model_name": "FloatProgressModel",
            "_view_count": null,
            "_view_module": "@jupyter-widgets/controls",
            "_view_module_version": "1.5.0",
            "_view_name": "ProgressView",
            "bar_style": "success",
            "description": "",
            "description_tooltip": null,
            "layout": "IPY_MODEL_a84b90fa6c7f4aef95d0f2d310b0a6bd",
            "max": 1262868003,
            "min": 0,
            "orientation": "horizontal",
            "style": "IPY_MODEL_9283fe2f590241b8a0a27512d9905d83",
            "value": 1262868003
          }
        },
        "b5232c43ecb64f9fb43026fa69ade680": {
          "model_module": "@jupyter-widgets/controls",
          "model_module_version": "1.5.0",
          "model_name": "HTMLModel",
          "state": {
            "_dom_classes": [],
            "_model_module": "@jupyter-widgets/controls",
            "_model_module_version": "1.5.0",
            "_model_name": "HTMLModel",
            "_view_count": null,
            "_view_module": "@jupyter-widgets/controls",
            "_view_module_version": "1.5.0",
            "_view_name": "HTMLView",
            "description": "",
            "description_tooltip": null,
            "layout": "IPY_MODEL_a657c7cbe1c243118a07478465172ec9",
            "placeholder": "​",
            "style": "IPY_MODEL_e169f20efc33412a8a503d74175539d9",
            "value": "<img src=\"data:image/gif;base64,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\" />"
          }
        },
        "b5a7cd833d96467d992a8c1dbad26907": {
          "model_module": "@jupyter-widgets/controls",
          "model_module_version": "1.5.0",
          "model_name": "ProgressStyleModel",
          "state": {
            "_model_module": "@jupyter-widgets/controls",
            "_model_module_version": "1.5.0",
            "_model_name": "ProgressStyleModel",
            "_view_count": null,
            "_view_module": "@jupyter-widgets/base",
            "_view_module_version": "1.2.0",
            "_view_name": "StyleView",
            "bar_color": null,
            "description_width": ""
          }
        },
        "bfa465ab79b643309ce96c06ac797e0a": {
          "model_module": "@jupyter-widgets/controls",
          "model_module_version": "1.5.0",
          "model_name": "DescriptionStyleModel",
          "state": {
            "_model_module": "@jupyter-widgets/controls",
            "_model_module_version": "1.5.0",
            "_model_name": "DescriptionStyleModel",
            "_view_count": null,
            "_view_module": "@jupyter-widgets/base",
            "_view_module_version": "1.2.0",
            "_view_name": "StyleView",
            "description_width": ""
          }
        },
        "c25e7fd44a434249ad73ba90b9bdb62b": {
          "model_module": "@jupyter-widgets/controls",
          "model_module_version": "1.5.0",
          "model_name": "HTMLModel",
          "state": {
            "_dom_classes": [],
            "_model_module": "@jupyter-widgets/controls",
            "_model_module_version": "1.5.0",
            "_model_name": "HTMLModel",
            "_view_count": null,
            "_view_module": "@jupyter-widgets/controls",
            "_view_module_version": "1.5.0",
            "_view_name": "HTMLView",
            "description": "",
            "description_tooltip": null,
            "layout": "IPY_MODEL_1cbd03009ef146d9aafa5079b377dca8",
            "placeholder": "​",
            "style": "IPY_MODEL_f5c6a9fd499c4022906747f4daf7f819",
            "value": " 1.26G/1.26G [02:22&lt;00:00, 9.77MiB/s]"
          }
        },
        "c8ee6d80eeb5440b977cde09cb1bb5a5": {
          "model_module": "@jupyter-widgets/controls",
          "model_module_version": "1.5.0",
          "model_name": "HTMLModel",
          "state": {
            "_dom_classes": [],
            "_model_module": "@jupyter-widgets/controls",
            "_model_module_version": "1.5.0",
            "_model_name": "HTMLModel",
            "_view_count": null,
            "_view_module": "@jupyter-widgets/controls",
            "_view_module_version": "1.5.0",
            "_view_name": "HTMLView",
            "description": "",
            "description_tooltip": null,
            "layout": "IPY_MODEL_c9106f335410451099ef06bba37a3b03",
            "placeholder": "​",
            "style": "IPY_MODEL_140369c64eb040a59843745ea5db2f67",
            "value": "<img src=\"data:image/gif;base64,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\" />"
          }
        },
        "c9106f335410451099ef06bba37a3b03": {
          "model_module": "@jupyter-widgets/base",
          "model_module_version": "1.2.0",
          "model_name": "LayoutModel",
          "state": {
            "_model_module": "@jupyter-widgets/base",
            "_model_module_version": "1.2.0",
            "_model_name": "LayoutModel",
            "_view_count": null,
            "_view_module": "@jupyter-widgets/base",
            "_view_module_version": "1.2.0",
            "_view_name": "LayoutView",
            "align_content": null,
            "align_items": null,
            "align_self": null,
            "border": null,
            "bottom": null,
            "display": null,
            "flex": null,
            "flex_flow": null,
            "grid_area": null,
            "grid_auto_columns": null,
            "grid_auto_flow": null,
            "grid_auto_rows": null,
            "grid_column": null,
            "grid_gap": null,
            "grid_row": null,
            "grid_template_areas": null,
            "grid_template_columns": null,
            "grid_template_rows": null,
            "height": null,
            "justify_content": null,
            "justify_items": null,
            "left": null,
            "margin": null,
            "max_height": null,
            "max_width": null,
            "min_height": null,
            "min_width": null,
            "object_fit": null,
            "object_position": null,
            "order": null,
            "overflow": null,
            "overflow_x": null,
            "overflow_y": null,
            "padding": null,
            "right": null,
            "top": null,
            "visibility": null,
            "width": null
          }
        },
        "c93c1a9d2cdd45458ddecf3e5c3a58dd": {
          "model_module": "@jupyter-widgets/controls",
          "model_module_version": "1.5.0",
          "model_name": "HTMLModel",
          "state": {
            "_dom_classes": [],
            "_model_module": "@jupyter-widgets/controls",
            "_model_module_version": "1.5.0",
            "_model_name": "HTMLModel",
            "_view_count": null,
            "_view_module": "@jupyter-widgets/controls",
            "_view_module_version": "1.5.0",
            "_view_name": "HTMLView",
            "description": "",
            "description_tooltip": null,
            "layout": "IPY_MODEL_1e0475cf3c8540fa969425c93cc0a9de",
            "placeholder": "​",
            "style": "IPY_MODEL_eac5316ae0294a3da7b606d4c458d211",
            "value": "100%"
          }
        },
        "d049d9cce4d34835b0c22ef1343bb7a0": {
          "model_module": "@jupyter-widgets/controls",
          "model_module_version": "1.5.0",
          "model_name": "TextModel",
          "state": {
            "_dom_classes": [],
            "_model_module": "@jupyter-widgets/controls",
            "_model_module_version": "1.5.0",
            "_model_name": "TextModel",
            "_view_count": null,
            "_view_module": "@jupyter-widgets/controls",
            "_view_module_version": "1.5.0",
            "_view_name": "TextView",
            "continuous_update": true,
            "description": "Prompt:",
            "description_tooltip": null,
            "disabled": false,
            "layout": "IPY_MODEL_1a58c37cb80f482294fd68360591abc0",
            "placeholder": "Type your text prompt here",
            "style": "IPY_MODEL_6bb618796cd6461cb8a9fdbb405c59b8",
            "value": "a penguin"
          }
        },
        "d2d6601a60e54542b2c2f8e6d52db533": {
          "model_module": "@jupyter-widgets/controls",
          "model_module_version": "1.5.0",
          "model_name": "HBoxModel",
          "state": {
            "_dom_classes": [],
            "_model_module": "@jupyter-widgets/controls",
            "_model_module_version": "1.5.0",
            "_model_name": "HBoxModel",
            "_view_count": null,
            "_view_module": "@jupyter-widgets/controls",
            "_view_module_version": "1.5.0",
            "_view_name": "HBoxView",
            "box_style": "",
            "children": [
              "IPY_MODEL_c93c1a9d2cdd45458ddecf3e5c3a58dd",
              "IPY_MODEL_ea198cf162d747bc8af3b9ae5aee92b8",
              "IPY_MODEL_527d97243d054034b52731df3d706099"
            ],
            "layout": "IPY_MODEL_5e1cd464f12c4284a96be3fb32fc54db"
          }
        },
        "d9491bfba5f342978e2c647b16d0f44f": {
          "model_module": "@jupyter-widgets/base",
          "model_module_version": "1.2.0",
          "model_name": "LayoutModel",
          "state": {
            "_model_module": "@jupyter-widgets/base",
            "_model_module_version": "1.2.0",
            "_model_name": "LayoutModel",
            "_view_count": null,
            "_view_module": "@jupyter-widgets/base",
            "_view_module_version": "1.2.0",
            "_view_name": "LayoutView",
            "align_content": null,
            "align_items": null,
            "align_self": null,
            "border": null,
            "bottom": null,
            "display": null,
            "flex": null,
            "flex_flow": null,
            "grid_area": null,
            "grid_auto_columns": null,
            "grid_auto_flow": null,
            "grid_auto_rows": null,
            "grid_column": null,
            "grid_gap": null,
            "grid_row": null,
            "grid_template_areas": null,
            "grid_template_columns": null,
            "grid_template_rows": null,
            "height": null,
            "justify_content": null,
            "justify_items": null,
            "left": null,
            "margin": null,
            "max_height": null,
            "max_width": null,
            "min_height": null,
            "min_width": null,
            "object_fit": null,
            "object_position": null,
            "order": null,
            "overflow": null,
            "overflow_x": null,
            "overflow_y": null,
            "padding": null,
            "right": null,
            "top": null,
            "visibility": null,
            "width": null
          }
        },
        "df2142303bfd4a3cad691a0005b0deee": {
          "model_module": "@jupyter-widgets/output",
          "model_module_version": "1.0.0",
          "model_name": "OutputModel",
          "state": {
            "_dom_classes": [],
            "_model_module": "@jupyter-widgets/output",
            "_model_module_version": "1.0.0",
            "_model_name": "OutputModel",
            "_view_count": null,
            "_view_module": "@jupyter-widgets/output",
            "_view_module_version": "1.0.0",
            "_view_name": "OutputView",
            "layout": "IPY_MODEL_a6a64f8bcae54906a678f9425a793c19",
            "msg_id": "",
            "outputs": [
              {
                "name": "stdout",
                "output_type": "stream",
                "text": [
                  "▶️ Generating for prompt: “a penguin” …\n"
                ]
              },
              {
                "data": {
                  "application/vnd.jupyter.widget-view+json": {
                    "model_id": "fb7dfeb8acfa4fe282dd1a9b63cfc803",
                    "version_major": 2,
                    "version_minor": 0
                  },
                  "text/plain": "  0%|          | 0/64 [00:00<?, ?it/s]"
                },
                "metadata": {},
                "output_type": "display_data"
              },
              {
                "name": "stdout",
                "output_type": "stream",
                "text": [
                  "Result #0:\n"
                ]
              },
              {
                "data": {
                  "application/vnd.jupyter.widget-view+json": {
                    "model_id": "91dc6fbc2f40464e8de6e5a1e6780097",
                    "version_major": 2,
                    "version_minor": 0
                  },
                  "text/plain": "HTML(value='<img src=\"data:image/gif;base64,R0lGODlhQABAAIcAAPr6+/r5+/j4+fb2+PP19vLz9PHy9PDy8/Dx8+/x8+/x8u/x8e…"
                },
                "metadata": {},
                "output_type": "display_data"
              },
              {
                "name": "stdout",
                "output_type": "stream",
                "text": [
                  "Result #1:\n"
                ]
              },
              {
                "data": {
                  "application/vnd.jupyter.widget-view+json": {
                    "model_id": "7569db9cdfd84d54899c6aadd23be146",
                    "version_major": 2,
                    "version_minor": 0
                  },
                  "text/plain": "HTML(value='<img src=\"data:image/gif;base64,R0lGODlhQABAAIcAAPv7+/r6+vn6+vn5+vj4+ff4+ff4+Pf3+PX29/b19PT19vP19f…"
                },
                "metadata": {},
                "output_type": "display_data"
              },
              {
                "name": "stdout",
                "output_type": "stream",
                "text": [
                  "Result #2:\n"
                ]
              },
              {
                "data": {
                  "application/vnd.jupyter.widget-view+json": {
                    "model_id": "b5232c43ecb64f9fb43026fa69ade680",
                    "version_major": 2,
                    "version_minor": 0
                  },
                  "text/plain": "HTML(value='<img src=\"data:image/gif;base64,R0lGODlhQABAAIcAAO/w8e7w8O3v7+3u7+zu7+zu7uvt7uvt7ers7Onr6+jr6+jq6u…"
                },
                "metadata": {},
                "output_type": "display_data"
              },
              {
                "name": "stdout",
                "output_type": "stream",
                "text": [
                  "Result #3:\n"
                ]
              },
              {
                "data": {
                  "application/vnd.jupyter.widget-view+json": {
                    "model_id": "4beb68c5f1c74e91bf7fac8d0f7f3c38",
                    "version_major": 2,
                    "version_minor": 0
                  },
                  "text/plain": "HTML(value='<img src=\"data:image/gif;base64,R0lGODlhQABAAIcAAOvz9+vy9+jx9ebv8+Pu8uPt8uLt8eHt8t/r7+Dq79/p7t7p7d…"
                },
                "metadata": {},
                "output_type": "display_data"
              },
              {
                "name": "stdout",
                "output_type": "stream",
                "text": [
                  "\n",
                  "💾 Saving meshes and providing download links:\n"
                ]
              },
              {
                "name": "stderr",
                "output_type": "stream",
                "text": [
                  "/content/shap-e/shap_e/models/stf/renderer.py:286: UserWarning: exception rendering with PyTorch3D: No module named 'pytorch3d'\n",
                  "  warnings.warn(f\"exception rendering with PyTorch3D: {exc}\")\n",
                  "/content/shap-e/shap_e/models/stf/renderer.py:287: UserWarning: falling back on native PyTorch renderer, which does not support full gradients\n",
                  "  warnings.warn(\n"
                ]
              },
              {
                "data": {
                  "text/html": "<a href='example_mesh_0.ply' target='_blank'>example_mesh_0.ply</a><br>",
                  "text/plain": "/content/shap-e/example_mesh_0.ply"
                },
                "metadata": {},
                "output_type": "display_data"
              },
              {
                "data": {
                  "text/html": "<a href='example_mesh_0.obj' target='_blank'>example_mesh_0.obj</a><br>",
                  "text/plain": "/content/shap-e/example_mesh_0.obj"
                },
                "metadata": {},
                "output_type": "display_data"
              },
              {
                "data": {
                  "text/html": "<a href='example_mesh_0.glb' target='_blank'>example_mesh_0.glb</a><br>",
                  "text/plain": "/content/shap-e/example_mesh_0.glb"
                },
                "metadata": {},
                "output_type": "display_data"
              },
              {
                "data": {
                  "text/html": "<a href='example_mesh_1.ply' target='_blank'>example_mesh_1.ply</a><br>",
                  "text/plain": "/content/shap-e/example_mesh_1.ply"
                },
                "metadata": {},
                "output_type": "display_data"
              },
              {
                "data": {
                  "text/html": "<a href='example_mesh_1.obj' target='_blank'>example_mesh_1.obj</a><br>",
                  "text/plain": "/content/shap-e/example_mesh_1.obj"
                },
                "metadata": {},
                "output_type": "display_data"
              },
              {
                "data": {
                  "text/html": "<a href='example_mesh_1.glb' target='_blank'>example_mesh_1.glb</a><br>",
                  "text/plain": "/content/shap-e/example_mesh_1.glb"
                },
                "metadata": {},
                "output_type": "display_data"
              },
              {
                "data": {
                  "text/html": "<a href='example_mesh_2.ply' target='_blank'>example_mesh_2.ply</a><br>",
                  "text/plain": "/content/shap-e/example_mesh_2.ply"
                },
                "metadata": {},
                "output_type": "display_data"
              },
              {
                "data": {
                  "text/html": "<a href='example_mesh_2.obj' target='_blank'>example_mesh_2.obj</a><br>",
                  "text/plain": "/content/shap-e/example_mesh_2.obj"
                },
                "metadata": {},
                "output_type": "display_data"
              },
              {
                "data": {
                  "text/html": "<a href='example_mesh_2.glb' target='_blank'>example_mesh_2.glb</a><br>",
                  "text/plain": "/content/shap-e/example_mesh_2.glb"
                },
                "metadata": {},
                "output_type": "display_data"
              },
              {
                "data": {
                  "text/html": "<a href='example_mesh_3.ply' target='_blank'>example_mesh_3.ply</a><br>",
                  "text/plain": "/content/shap-e/example_mesh_3.ply"
                },
                "metadata": {},
                "output_type": "display_data"
              },
              {
                "data": {
                  "text/html": "<a href='example_mesh_3.obj' target='_blank'>example_mesh_3.obj</a><br>",
                  "text/plain": "/content/shap-e/example_mesh_3.obj"
                },
                "metadata": {},
                "output_type": "display_data"
              },
              {
                "data": {
                  "text/html": "<a href='example_mesh_3.glb' target='_blank'>example_mesh_3.glb</a><br>",
                  "text/plain": "/content/shap-e/example_mesh_3.glb"
                },
                "metadata": {},
                "output_type": "display_data"
              },
              {
                "name": "stdout",
                "output_type": "stream",
                "text": [
                  "\n",
                  "✅ Done!\n"
                ]
              }
            ]
          }
        },
        "e169f20efc33412a8a503d74175539d9": {
          "model_module": "@jupyter-widgets/controls",
          "model_module_version": "1.5.0",
          "model_name": "DescriptionStyleModel",
          "state": {
            "_model_module": "@jupyter-widgets/controls",
            "_model_module_version": "1.5.0",
            "_model_name": "DescriptionStyleModel",
            "_view_count": null,
            "_view_module": "@jupyter-widgets/base",
            "_view_module_version": "1.2.0",
            "_view_name": "StyleView",
            "description_width": ""
          }
        },
        "e1f848919f0b48b9b8fc0c048132ea07": {
          "model_module": "@jupyter-widgets/controls",
          "model_module_version": "1.5.0",
          "model_name": "DescriptionStyleModel",
          "state": {
            "_model_module": "@jupyter-widgets/controls",
            "_model_module_version": "1.5.0",
            "_model_name": "DescriptionStyleModel",
            "_view_count": null,
            "_view_module": "@jupyter-widgets/base",
            "_view_module_version": "1.2.0",
            "_view_name": "StyleView",
            "description_width": ""
          }
        },
        "e333a882df7b44a7a01c9c0082df7cd4": {
          "model_module": "@jupyter-widgets/controls",
          "model_module_version": "1.5.0",
          "model_name": "HTMLModel",
          "state": {
            "_dom_classes": [],
            "_model_module": "@jupyter-widgets/controls",
            "_model_module_version": "1.5.0",
            "_model_name": "HTMLModel",
            "_view_count": null,
            "_view_module": "@jupyter-widgets/controls",
            "_view_module_version": "1.5.0",
            "_view_name": "HTMLView",
            "description": "",
            "description_tooltip": null,
            "layout": "IPY_MODEL_32b616dfd37e40489e56335a34be18b1",
            "placeholder": "​",
            "style": "IPY_MODEL_559cfe02bc8d473d8393ce6fbce6f6b5",
            "value": "<img src=\"data:image/gif;base64,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\" />"
          }
        },
        "ea198cf162d747bc8af3b9ae5aee92b8": {
          "model_module": "@jupyter-widgets/controls",
          "model_module_version": "1.5.0",
          "model_name": "FloatProgressModel",
          "state": {
            "_dom_classes": [],
            "_model_module": "@jupyter-widgets/controls",
            "_model_module_version": "1.5.0",
            "_model_name": "FloatProgressModel",
            "_view_count": null,
            "_view_module": "@jupyter-widgets/controls",
            "_view_module_version": "1.5.0",
            "_view_name": "ProgressView",
            "bar_style": "success",
            "description": "",
            "description_tooltip": null,
            "layout": "IPY_MODEL_b1d20f81d7804d169c664bf76fe11a3d",
            "max": 64,
            "min": 0,
            "orientation": "horizontal",
            "style": "IPY_MODEL_314e4239cb3d4d3d96a1ffb742d39c71",
            "value": 64
          }
        },
        "eac5316ae0294a3da7b606d4c458d211": {
          "model_module": "@jupyter-widgets/controls",
          "model_module_version": "1.5.0",
          "model_name": "DescriptionStyleModel",
          "state": {
            "_model_module": "@jupyter-widgets/controls",
            "_model_module_version": "1.5.0",
            "_model_name": "DescriptionStyleModel",
            "_view_count": null,
            "_view_module": "@jupyter-widgets/base",
            "_view_module_version": "1.2.0",
            "_view_name": "StyleView",
            "description_width": ""
          }
        },
        "f327e81825c045918f27ead3f70fd720": {
          "model_module": "@jupyter-widgets/controls",
          "model_module_version": "1.5.0",
          "model_name": "DescriptionStyleModel",
          "state": {
            "_model_module": "@jupyter-widgets/controls",
            "_model_module_version": "1.5.0",
            "_model_name": "DescriptionStyleModel",
            "_view_count": null,
            "_view_module": "@jupyter-widgets/base",
            "_view_module_version": "1.2.0",
            "_view_name": "StyleView",
            "description_width": ""
          }
        },
        "f5c6a9fd499c4022906747f4daf7f819": {
          "model_module": "@jupyter-widgets/controls",
          "model_module_version": "1.5.0",
          "model_name": "DescriptionStyleModel",
          "state": {
            "_model_module": "@jupyter-widgets/controls",
            "_model_module_version": "1.5.0",
            "_model_name": "DescriptionStyleModel",
            "_view_count": null,
            "_view_module": "@jupyter-widgets/base",
            "_view_module_version": "1.2.0",
            "_view_name": "StyleView",
            "description_width": ""
          }
        },
        "f6c910652933487f8a3dc8410f60abee": {
          "model_module": "@jupyter-widgets/base",
          "model_module_version": "1.2.0",
          "model_name": "LayoutModel",
          "state": {
            "_model_module": "@jupyter-widgets/base",
            "_model_module_version": "1.2.0",
            "_model_name": "LayoutModel",
            "_view_count": null,
            "_view_module": "@jupyter-widgets/base",
            "_view_module_version": "1.2.0",
            "_view_name": "LayoutView",
            "align_content": null,
            "align_items": null,
            "align_self": null,
            "border": null,
            "bottom": null,
            "display": null,
            "flex": null,
            "flex_flow": null,
            "grid_area": null,
            "grid_auto_columns": null,
            "grid_auto_flow": null,
            "grid_auto_rows": null,
            "grid_column": null,
            "grid_gap": null,
            "grid_row": null,
            "grid_template_areas": null,
            "grid_template_columns": null,
            "grid_template_rows": null,
            "height": null,
            "justify_content": null,
            "justify_items": null,
            "left": null,
            "margin": null,
            "max_height": null,
            "max_width": null,
            "min_height": null,
            "min_width": null,
            "object_fit": null,
            "object_position": null,
            "order": null,
            "overflow": null,
            "overflow_x": null,
            "overflow_y": null,
            "padding": null,
            "right": null,
            "top": null,
            "visibility": null,
            "width": null
          }
        },
        "fb7dfeb8acfa4fe282dd1a9b63cfc803": {
          "model_module": "@jupyter-widgets/controls",
          "model_module_version": "1.5.0",
          "model_name": "HBoxModel",
          "state": {
            "_dom_classes": [],
            "_model_module": "@jupyter-widgets/controls",
            "_model_module_version": "1.5.0",
            "_model_name": "HBoxModel",
            "_view_count": null,
            "_view_module": "@jupyter-widgets/controls",
            "_view_module_version": "1.5.0",
            "_view_name": "HBoxView",
            "box_style": "",
            "children": [
              "IPY_MODEL_aa0943a531a44c36b71915315abb3407",
              "IPY_MODEL_a06c3c13a4cd4896b204a3707c6b36d5",
              "IPY_MODEL_1deec5a599624e008a660607a2063a03"
            ],
            "layout": "IPY_MODEL_4657d877ea5248d2a583573f9c1582fe"
          }
        }
      }
    }
  },
  "nbformat": 4,
  "nbformat_minor": 0
}
